{
  "nbformat": 4,
  "nbformat_minor": 0,
  "metadata": {
    "colab": {
      "provenance": []
    },
    "kernelspec": {
      "name": "python3",
      "display_name": "Python 3"
    },
    "accelerator": "GPU"
  },
  "cells": [
    {
      "cell_type": "markdown",
      "metadata": {
        "id": "RRyfzv2cVW5S"
      },
      "source": [
        "# **Installing and settingup wandb.**"
      ]
    },
    {
      "cell_type": "code",
      "metadata": {
        "id": "xZpWliiUO_nU",
        "outputId": "7db008d8-c6fa-45e2-e96c-a090c8d3376e",
        "colab": {
          "base_uri": "https://localhost:8080/",
          "height": 1000
        }
      },
      "source": [
        "# Weights and Biases for experiment tracking\n",
        "!pip install wandb\n",
        "!wandb login"
      ],
      "execution_count": null,
      "outputs": [
        {
          "output_type": "stream",
          "text": [
            "Collecting wandb\n",
            "\u001b[?25l  Downloading https://files.pythonhosted.org/packages/d1/c7/8bf2c62c3f133f45e135a8a116e4e0f162043248e3db54de30996eaf1a8a/wandb-0.8.36-py2.py3-none-any.whl (1.4MB)\n",
            "\u001b[K     |████████████████████████████████| 1.4MB 4.6MB/s \n",
            "\u001b[?25hCollecting shortuuid>=0.5.0\n",
            "  Downloading https://files.pythonhosted.org/packages/25/a6/2ecc1daa6a304e7f1b216f0896b26156b78e7c38e1211e9b798b4716c53d/shortuuid-1.0.1-py3-none-any.whl\n",
            "Collecting GitPython>=1.0.0\n",
            "\u001b[?25l  Downloading https://files.pythonhosted.org/packages/44/33/917e6fde1cad13daa7053f39b7c8af3be287314f75f1b1ea8d3fe37a8571/GitPython-3.1.2-py3-none-any.whl (451kB)\n",
            "\u001b[K     |████████████████████████████████| 460kB 19.6MB/s \n",
            "\u001b[?25hRequirement already satisfied: requests>=2.0.0 in /usr/local/lib/python3.6/dist-packages (from wandb) (2.23.0)\n",
            "Collecting docker-pycreds>=0.4.0\n",
            "  Downloading https://files.pythonhosted.org/packages/f5/e8/f6bd1eee09314e7e6dee49cbe2c5e22314ccdb38db16c9fc72d2fa80d054/docker_pycreds-0.4.0-py2.py3-none-any.whl\n",
            "Collecting watchdog>=0.8.3\n",
            "\u001b[?25l  Downloading https://files.pythonhosted.org/packages/73/c3/ed6d992006837e011baca89476a4bbffb0a91602432f73bd4473816c76e2/watchdog-0.10.2.tar.gz (95kB)\n",
            "\u001b[K     |████████████████████████████████| 102kB 12.1MB/s \n",
            "\u001b[?25hCollecting sentry-sdk>=0.4.0\n",
            "\u001b[?25l  Downloading https://files.pythonhosted.org/packages/1b/95/9a20eebcedab2c1c63fad59fe19a0469edfc2a25b8576497e8084629c2ff/sentry_sdk-0.14.4-py2.py3-none-any.whl (104kB)\n",
            "\u001b[K     |████████████████████████████████| 112kB 33.8MB/s \n",
            "\u001b[?25hRequirement already satisfied: python-dateutil>=2.6.1 in /usr/local/lib/python3.6/dist-packages (from wandb) (2.8.1)\n",
            "Requirement already satisfied: psutil>=5.0.0 in /usr/local/lib/python3.6/dist-packages (from wandb) (5.4.8)\n",
            "Requirement already satisfied: nvidia-ml-py3>=7.352.0 in /usr/local/lib/python3.6/dist-packages (from wandb) (7.352.0)\n",
            "Requirement already satisfied: PyYAML>=3.10 in /usr/local/lib/python3.6/dist-packages (from wandb) (3.13)\n",
            "Collecting configparser>=3.8.1\n",
            "  Downloading https://files.pythonhosted.org/packages/4b/6b/01baa293090240cf0562cc5eccb69c6f5006282127f2b846fad011305c79/configparser-5.0.0-py3-none-any.whl\n",
            "Requirement already satisfied: six>=1.10.0 in /usr/local/lib/python3.6/dist-packages (from wandb) (1.12.0)\n",
            "Collecting gql==0.2.0\n",
            "  Downloading https://files.pythonhosted.org/packages/c4/6f/cf9a3056045518f06184e804bae89390eb706168349daa9dff8ac609962a/gql-0.2.0.tar.gz\n",
            "Requirement already satisfied: Click>=7.0 in /usr/local/lib/python3.6/dist-packages (from wandb) (7.1.2)\n",
            "Collecting subprocess32>=3.5.3\n",
            "\u001b[?25l  Downloading https://files.pythonhosted.org/packages/32/c8/564be4d12629b912ea431f1a50eb8b3b9d00f1a0b1ceff17f266be190007/subprocess32-3.5.4.tar.gz (97kB)\n",
            "\u001b[K     |████████████████████████████████| 102kB 11.1MB/s \n",
            "\u001b[?25hCollecting gitdb<5,>=4.0.1\n",
            "\u001b[?25l  Downloading https://files.pythonhosted.org/packages/48/11/d1800bca0a3bae820b84b7d813ad1eff15a48a64caea9c823fc8c1b119e8/gitdb-4.0.5-py3-none-any.whl (63kB)\n",
            "\u001b[K     |████████████████████████████████| 71kB 10.7MB/s \n",
            "\u001b[?25hRequirement already satisfied: chardet<4,>=3.0.2 in /usr/local/lib/python3.6/dist-packages (from requests>=2.0.0->wandb) (3.0.4)\n",
            "Requirement already satisfied: idna<3,>=2.5 in /usr/local/lib/python3.6/dist-packages (from requests>=2.0.0->wandb) (2.9)\n",
            "Requirement already satisfied: urllib3!=1.25.0,!=1.25.1,<1.26,>=1.21.1 in /usr/local/lib/python3.6/dist-packages (from requests>=2.0.0->wandb) (1.24.3)\n",
            "Requirement already satisfied: certifi>=2017.4.17 in /usr/local/lib/python3.6/dist-packages (from requests>=2.0.0->wandb) (2020.4.5.1)\n",
            "Collecting pathtools>=0.1.1\n",
            "  Downloading https://files.pythonhosted.org/packages/e7/7f/470d6fcdf23f9f3518f6b0b76be9df16dcc8630ad409947f8be2eb0ed13a/pathtools-0.1.2.tar.gz\n",
            "Collecting graphql-core<2,>=0.5.0\n",
            "\u001b[?25l  Downloading https://files.pythonhosted.org/packages/b0/89/00ad5e07524d8c523b14d70c685e0299a8b0de6d0727e368c41b89b7ed0b/graphql-core-1.1.tar.gz (70kB)\n",
            "\u001b[K     |████████████████████████████████| 71kB 9.6MB/s \n",
            "\u001b[?25hRequirement already satisfied: promise<3,>=2.0 in /usr/local/lib/python3.6/dist-packages (from gql==0.2.0->wandb) (2.3)\n",
            "Collecting smmap<4,>=3.0.1\n",
            "  Downloading https://files.pythonhosted.org/packages/b0/9a/4d409a6234eb940e6a78dfdfc66156e7522262f5f2fecca07dc55915952d/smmap-3.0.4-py2.py3-none-any.whl\n",
            "Building wheels for collected packages: watchdog, gql, subprocess32, pathtools, graphql-core\n",
            "  Building wheel for watchdog (setup.py) ... \u001b[?25l\u001b[?25hdone\n",
            "  Created wheel for watchdog: filename=watchdog-0.10.2-cp36-none-any.whl size=73605 sha256=b8782a3dcd94fb4e2f1be06c3b130707703228d3b669de077738ad2f03c28375\n",
            "  Stored in directory: /root/.cache/pip/wheels/bc/ed/6c/028dea90d31b359cd2a7c8b0da4db80e41d24a59614154072e\n",
            "  Building wheel for gql (setup.py) ... \u001b[?25l\u001b[?25hdone\n",
            "  Created wheel for gql: filename=gql-0.2.0-cp36-none-any.whl size=7630 sha256=6f9386a0e2e1234f02d5c7fee3a24ce58c011a705d6fc87c76a65692ccfba165\n",
            "  Stored in directory: /root/.cache/pip/wheels/ce/0e/7b/58a8a5268655b3ad74feef5aa97946f0addafb3cbb6bd2da23\n",
            "  Building wheel for subprocess32 (setup.py) ... \u001b[?25l\u001b[?25hdone\n",
            "  Created wheel for subprocess32: filename=subprocess32-3.5.4-cp36-none-any.whl size=6489 sha256=c880bb88989147a393c4f48e8fa52a4726acc426ffa0f61336cf5735ed969eba\n",
            "  Stored in directory: /root/.cache/pip/wheels/68/39/1a/5e402bdfdf004af1786c8b853fd92f8c4a04f22aad179654d1\n",
            "  Building wheel for pathtools (setup.py) ... \u001b[?25l\u001b[?25hdone\n",
            "  Created wheel for pathtools: filename=pathtools-0.1.2-cp36-none-any.whl size=8784 sha256=c076a668f862af13b15d01925824d5a06698899a298f881aed032e9ae8ccf3fd\n",
            "  Stored in directory: /root/.cache/pip/wheels/0b/04/79/c3b0c3a0266a3cb4376da31e5bfe8bba0c489246968a68e843\n",
            "  Building wheel for graphql-core (setup.py) ... \u001b[?25l\u001b[?25hdone\n",
            "  Created wheel for graphql-core: filename=graphql_core-1.1-cp36-none-any.whl size=104650 sha256=0a4a1dbaac604f91f8212da4a0d7481e779222cc9d4476a22c82f730db4fb0ac\n",
            "  Stored in directory: /root/.cache/pip/wheels/45/99/d7/c424029bb0fe910c63b68dbf2aa20d3283d023042521bcd7d5\n",
            "Successfully built watchdog gql subprocess32 pathtools graphql-core\n",
            "Installing collected packages: shortuuid, smmap, gitdb, GitPython, docker-pycreds, pathtools, watchdog, sentry-sdk, configparser, graphql-core, gql, subprocess32, wandb\n",
            "Successfully installed GitPython-3.1.2 configparser-5.0.0 docker-pycreds-0.4.0 gitdb-4.0.5 gql-0.2.0 graphql-core-1.1 pathtools-0.1.2 sentry-sdk-0.14.4 shortuuid-1.0.1 smmap-3.0.4 subprocess32-3.5.4 wandb-0.8.36 watchdog-0.10.2\n",
            "\u001b[34m\u001b[1mwandb\u001b[0m: You can find your API key in your browser here: https://app.wandb.ai/authorize\n",
            "\u001b[34m\u001b[1mwandb\u001b[0m: Paste an API key from your profile and hit enter: dab72313c111012ca15db0fb574aa3883be6b4e2\n",
            "\u001b[34m\u001b[1mwandb\u001b[0m: Appending key for api.wandb.ai to your netrc file: /root/.netrc\n",
            "\u001b[32mSuccessfully logged in to Weights & Biases!\u001b[0m\n"
          ],
          "name": "stdout"
        }
      ]
    },
    {
      "cell_type": "markdown",
      "metadata": {
        "id": "RQCjV3BXVxBn"
      },
      "source": [
        "# **Importing important libraries.**"
      ]
    },
    {
      "cell_type": "code",
      "metadata": {
        "id": "B9mI5JrKQWJ7"
      },
      "source": [
        "import numpy as np # linear algebra\n",
        "import pandas as pd # data processing, CSV file I/O (e.g. pd.read_csv)"
      ],
      "execution_count": null,
      "outputs": []
    },
    {
      "cell_type": "code",
      "metadata": {
        "id": "WDjr2kyjTbBo",
        "outputId": "eec258ef-e2e3-4f11-b168-0edc84c252f6",
        "colab": {
          "base_uri": "https://localhost:8080/",
          "height": 87
        }
      },
      "source": [
        "import matplotlib.pyplot as plt\n",
        "import seaborn as sns\n",
        "import keras\n",
        "from keras.models import Sequential\n",
        "from keras.layers import Dense, Conv2D , MaxPool2D , Flatten , Dropout\n",
        "from keras.preprocessing.image import ImageDataGenerator\n",
        "from sklearn.model_selection import train_test_split\n",
        "from sklearn.metrics import classification_report,confusion_matrix"
      ],
      "execution_count": null,
      "outputs": [
        {
          "output_type": "stream",
          "text": [
            "/usr/local/lib/python3.6/dist-packages/statsmodels/tools/_testing.py:19: FutureWarning: pandas.util.testing is deprecated. Use the functions in the public API at pandas.testing instead.\n",
            "  import pandas.util.testing as tm\n",
            "Using TensorFlow backend.\n"
          ],
          "name": "stderr"
        }
      ]
    },
    {
      "cell_type": "markdown",
      "metadata": {
        "id": "3PyoPvK-V7kE"
      },
      "source": [
        "# **Preparing the data**"
      ]
    },
    {
      "cell_type": "code",
      "metadata": {
        "id": "GCzVp7tCU69o",
        "outputId": "ab49dc39-7e21-4ee8-dff6-53a4233718c8",
        "colab": {
          "base_uri": "https://localhost:8080/",
          "height": 121
        }
      },
      "source": [
        "from google.colab import drive\n",
        "drive.mount('/content/drive')"
      ],
      "execution_count": null,
      "outputs": [
        {
          "output_type": "stream",
          "text": [
            "Go to this URL in a browser: https://accounts.google.com/o/oauth2/auth?client_id=947318989803-6bn6qk8qdgf4n4g3pfee6491hc0brc4i.apps.googleusercontent.com&redirect_uri=urn%3aietf%3awg%3aoauth%3a2.0%3aoob&response_type=code&scope=email%20https%3a%2f%2fwww.googleapis.com%2fauth%2fdocs.test%20https%3a%2f%2fwww.googleapis.com%2fauth%2fdrive%20https%3a%2f%2fwww.googleapis.com%2fauth%2fdrive.photos.readonly%20https%3a%2f%2fwww.googleapis.com%2fauth%2fpeopleapi.readonly\n",
            "\n",
            "Enter your authorization code:\n",
            "··········\n",
            "Mounted at /content/drive\n"
          ],
          "name": "stdout"
        }
      ]
    },
    {
      "cell_type": "code",
      "metadata": {
        "id": "uWK7oE7PZ37m"
      },
      "source": [
        "train_path = \"/content/drive/My Drive/sign_mnist_train.csv\"\n",
        "test_path = \"/content/drive/My Drive/sign_mnist_test.csv\"\n",
        "train_df = pd.read_csv(train_path)\n",
        "test_df = pd.read_csv(test_path)"
      ],
      "execution_count": null,
      "outputs": []
    },
    {
      "cell_type": "code",
      "metadata": {
        "id": "dReytirzaAZt",
        "outputId": "66e23e9f-e096-4340-b742-9a59374307e7",
        "colab": {
          "base_uri": "https://localhost:8080/",
          "height": 244
        }
      },
      "source": [
        "train_df.tail()"
      ],
      "execution_count": null,
      "outputs": [
        {
          "output_type": "execute_result",
          "data": {
            "text/html": [
              "<div>\n",
              "<style scoped>\n",
              "    .dataframe tbody tr th:only-of-type {\n",
              "        vertical-align: middle;\n",
              "    }\n",
              "\n",
              "    .dataframe tbody tr th {\n",
              "        vertical-align: top;\n",
              "    }\n",
              "\n",
              "    .dataframe thead th {\n",
              "        text-align: right;\n",
              "    }\n",
              "</style>\n",
              "<table border=\"1\" class=\"dataframe\">\n",
              "  <thead>\n",
              "    <tr style=\"text-align: right;\">\n",
              "      <th></th>\n",
              "      <th>label</th>\n",
              "      <th>pixel1</th>\n",
              "      <th>pixel2</th>\n",
              "      <th>pixel3</th>\n",
              "      <th>pixel4</th>\n",
              "      <th>pixel5</th>\n",
              "      <th>pixel6</th>\n",
              "      <th>pixel7</th>\n",
              "      <th>pixel8</th>\n",
              "      <th>pixel9</th>\n",
              "      <th>pixel10</th>\n",
              "      <th>pixel11</th>\n",
              "      <th>pixel12</th>\n",
              "      <th>pixel13</th>\n",
              "      <th>pixel14</th>\n",
              "      <th>pixel15</th>\n",
              "      <th>pixel16</th>\n",
              "      <th>pixel17</th>\n",
              "      <th>pixel18</th>\n",
              "      <th>pixel19</th>\n",
              "      <th>pixel20</th>\n",
              "      <th>pixel21</th>\n",
              "      <th>pixel22</th>\n",
              "      <th>pixel23</th>\n",
              "      <th>pixel24</th>\n",
              "      <th>pixel25</th>\n",
              "      <th>pixel26</th>\n",
              "      <th>pixel27</th>\n",
              "      <th>pixel28</th>\n",
              "      <th>pixel29</th>\n",
              "      <th>pixel30</th>\n",
              "      <th>pixel31</th>\n",
              "      <th>pixel32</th>\n",
              "      <th>pixel33</th>\n",
              "      <th>pixel34</th>\n",
              "      <th>pixel35</th>\n",
              "      <th>pixel36</th>\n",
              "      <th>pixel37</th>\n",
              "      <th>pixel38</th>\n",
              "      <th>pixel39</th>\n",
              "      <th>...</th>\n",
              "      <th>pixel745</th>\n",
              "      <th>pixel746</th>\n",
              "      <th>pixel747</th>\n",
              "      <th>pixel748</th>\n",
              "      <th>pixel749</th>\n",
              "      <th>pixel750</th>\n",
              "      <th>pixel751</th>\n",
              "      <th>pixel752</th>\n",
              "      <th>pixel753</th>\n",
              "      <th>pixel754</th>\n",
              "      <th>pixel755</th>\n",
              "      <th>pixel756</th>\n",
              "      <th>pixel757</th>\n",
              "      <th>pixel758</th>\n",
              "      <th>pixel759</th>\n",
              "      <th>pixel760</th>\n",
              "      <th>pixel761</th>\n",
              "      <th>pixel762</th>\n",
              "      <th>pixel763</th>\n",
              "      <th>pixel764</th>\n",
              "      <th>pixel765</th>\n",
              "      <th>pixel766</th>\n",
              "      <th>pixel767</th>\n",
              "      <th>pixel768</th>\n",
              "      <th>pixel769</th>\n",
              "      <th>pixel770</th>\n",
              "      <th>pixel771</th>\n",
              "      <th>pixel772</th>\n",
              "      <th>pixel773</th>\n",
              "      <th>pixel774</th>\n",
              "      <th>pixel775</th>\n",
              "      <th>pixel776</th>\n",
              "      <th>pixel777</th>\n",
              "      <th>pixel778</th>\n",
              "      <th>pixel779</th>\n",
              "      <th>pixel780</th>\n",
              "      <th>pixel781</th>\n",
              "      <th>pixel782</th>\n",
              "      <th>pixel783</th>\n",
              "      <th>pixel784</th>\n",
              "    </tr>\n",
              "  </thead>\n",
              "  <tbody>\n",
              "    <tr>\n",
              "      <th>27450</th>\n",
              "      <td>13</td>\n",
              "      <td>189</td>\n",
              "      <td>189</td>\n",
              "      <td>190</td>\n",
              "      <td>190</td>\n",
              "      <td>192</td>\n",
              "      <td>193</td>\n",
              "      <td>193</td>\n",
              "      <td>193</td>\n",
              "      <td>193</td>\n",
              "      <td>194</td>\n",
              "      <td>193</td>\n",
              "      <td>193</td>\n",
              "      <td>194</td>\n",
              "      <td>194</td>\n",
              "      <td>195</td>\n",
              "      <td>195</td>\n",
              "      <td>196</td>\n",
              "      <td>194</td>\n",
              "      <td>195</td>\n",
              "      <td>196</td>\n",
              "      <td>196</td>\n",
              "      <td>197</td>\n",
              "      <td>196</td>\n",
              "      <td>197</td>\n",
              "      <td>197</td>\n",
              "      <td>196</td>\n",
              "      <td>195</td>\n",
              "      <td>195</td>\n",
              "      <td>189</td>\n",
              "      <td>190</td>\n",
              "      <td>192</td>\n",
              "      <td>192</td>\n",
              "      <td>193</td>\n",
              "      <td>194</td>\n",
              "      <td>195</td>\n",
              "      <td>196</td>\n",
              "      <td>196</td>\n",
              "      <td>196</td>\n",
              "      <td>193</td>\n",
              "      <td>...</td>\n",
              "      <td>115</td>\n",
              "      <td>92</td>\n",
              "      <td>132</td>\n",
              "      <td>173</td>\n",
              "      <td>118</td>\n",
              "      <td>84</td>\n",
              "      <td>53</td>\n",
              "      <td>135</td>\n",
              "      <td>253</td>\n",
              "      <td>213</td>\n",
              "      <td>219</td>\n",
              "      <td>208</td>\n",
              "      <td>82</td>\n",
              "      <td>82</td>\n",
              "      <td>84</td>\n",
              "      <td>85</td>\n",
              "      <td>85</td>\n",
              "      <td>87</td>\n",
              "      <td>84</td>\n",
              "      <td>87</td>\n",
              "      <td>78</td>\n",
              "      <td>113</td>\n",
              "      <td>216</td>\n",
              "      <td>189</td>\n",
              "      <td>172</td>\n",
              "      <td>175</td>\n",
              "      <td>155</td>\n",
              "      <td>131</td>\n",
              "      <td>116</td>\n",
              "      <td>93</td>\n",
              "      <td>132</td>\n",
              "      <td>165</td>\n",
              "      <td>99</td>\n",
              "      <td>77</td>\n",
              "      <td>52</td>\n",
              "      <td>200</td>\n",
              "      <td>234</td>\n",
              "      <td>200</td>\n",
              "      <td>222</td>\n",
              "      <td>225</td>\n",
              "    </tr>\n",
              "    <tr>\n",
              "      <th>27451</th>\n",
              "      <td>23</td>\n",
              "      <td>151</td>\n",
              "      <td>154</td>\n",
              "      <td>157</td>\n",
              "      <td>158</td>\n",
              "      <td>160</td>\n",
              "      <td>161</td>\n",
              "      <td>163</td>\n",
              "      <td>164</td>\n",
              "      <td>166</td>\n",
              "      <td>167</td>\n",
              "      <td>169</td>\n",
              "      <td>169</td>\n",
              "      <td>169</td>\n",
              "      <td>169</td>\n",
              "      <td>169</td>\n",
              "      <td>169</td>\n",
              "      <td>169</td>\n",
              "      <td>169</td>\n",
              "      <td>169</td>\n",
              "      <td>167</td>\n",
              "      <td>167</td>\n",
              "      <td>167</td>\n",
              "      <td>166</td>\n",
              "      <td>165</td>\n",
              "      <td>164</td>\n",
              "      <td>164</td>\n",
              "      <td>163</td>\n",
              "      <td>162</td>\n",
              "      <td>153</td>\n",
              "      <td>156</td>\n",
              "      <td>159</td>\n",
              "      <td>160</td>\n",
              "      <td>162</td>\n",
              "      <td>163</td>\n",
              "      <td>164</td>\n",
              "      <td>165</td>\n",
              "      <td>167</td>\n",
              "      <td>169</td>\n",
              "      <td>172</td>\n",
              "      <td>...</td>\n",
              "      <td>199</td>\n",
              "      <td>200</td>\n",
              "      <td>199</td>\n",
              "      <td>199</td>\n",
              "      <td>198</td>\n",
              "      <td>199</td>\n",
              "      <td>198</td>\n",
              "      <td>197</td>\n",
              "      <td>196</td>\n",
              "      <td>195</td>\n",
              "      <td>195</td>\n",
              "      <td>194</td>\n",
              "      <td>66</td>\n",
              "      <td>67</td>\n",
              "      <td>65</td>\n",
              "      <td>62</td>\n",
              "      <td>61</td>\n",
              "      <td>41</td>\n",
              "      <td>32</td>\n",
              "      <td>37</td>\n",
              "      <td>33</td>\n",
              "      <td>30</td>\n",
              "      <td>28</td>\n",
              "      <td>38</td>\n",
              "      <td>187</td>\n",
              "      <td>202</td>\n",
              "      <td>199</td>\n",
              "      <td>199</td>\n",
              "      <td>199</td>\n",
              "      <td>199</td>\n",
              "      <td>198</td>\n",
              "      <td>198</td>\n",
              "      <td>198</td>\n",
              "      <td>198</td>\n",
              "      <td>198</td>\n",
              "      <td>196</td>\n",
              "      <td>195</td>\n",
              "      <td>195</td>\n",
              "      <td>195</td>\n",
              "      <td>194</td>\n",
              "    </tr>\n",
              "    <tr>\n",
              "      <th>27452</th>\n",
              "      <td>18</td>\n",
              "      <td>174</td>\n",
              "      <td>174</td>\n",
              "      <td>174</td>\n",
              "      <td>174</td>\n",
              "      <td>174</td>\n",
              "      <td>175</td>\n",
              "      <td>175</td>\n",
              "      <td>174</td>\n",
              "      <td>173</td>\n",
              "      <td>173</td>\n",
              "      <td>173</td>\n",
              "      <td>172</td>\n",
              "      <td>171</td>\n",
              "      <td>171</td>\n",
              "      <td>171</td>\n",
              "      <td>170</td>\n",
              "      <td>169</td>\n",
              "      <td>168</td>\n",
              "      <td>166</td>\n",
              "      <td>166</td>\n",
              "      <td>165</td>\n",
              "      <td>165</td>\n",
              "      <td>163</td>\n",
              "      <td>162</td>\n",
              "      <td>161</td>\n",
              "      <td>160</td>\n",
              "      <td>158</td>\n",
              "      <td>156</td>\n",
              "      <td>178</td>\n",
              "      <td>178</td>\n",
              "      <td>177</td>\n",
              "      <td>176</td>\n",
              "      <td>177</td>\n",
              "      <td>177</td>\n",
              "      <td>177</td>\n",
              "      <td>176</td>\n",
              "      <td>176</td>\n",
              "      <td>176</td>\n",
              "      <td>175</td>\n",
              "      <td>...</td>\n",
              "      <td>110</td>\n",
              "      <td>85</td>\n",
              "      <td>90</td>\n",
              "      <td>166</td>\n",
              "      <td>205</td>\n",
              "      <td>207</td>\n",
              "      <td>205</td>\n",
              "      <td>203</td>\n",
              "      <td>202</td>\n",
              "      <td>201</td>\n",
              "      <td>200</td>\n",
              "      <td>198</td>\n",
              "      <td>217</td>\n",
              "      <td>217</td>\n",
              "      <td>217</td>\n",
              "      <td>218</td>\n",
              "      <td>218</td>\n",
              "      <td>211</td>\n",
              "      <td>203</td>\n",
              "      <td>200</td>\n",
              "      <td>189</td>\n",
              "      <td>171</td>\n",
              "      <td>157</td>\n",
              "      <td>145</td>\n",
              "      <td>136</td>\n",
              "      <td>129</td>\n",
              "      <td>128</td>\n",
              "      <td>125</td>\n",
              "      <td>101</td>\n",
              "      <td>77</td>\n",
              "      <td>121</td>\n",
              "      <td>196</td>\n",
              "      <td>209</td>\n",
              "      <td>208</td>\n",
              "      <td>206</td>\n",
              "      <td>204</td>\n",
              "      <td>203</td>\n",
              "      <td>202</td>\n",
              "      <td>200</td>\n",
              "      <td>200</td>\n",
              "    </tr>\n",
              "    <tr>\n",
              "      <th>27453</th>\n",
              "      <td>17</td>\n",
              "      <td>177</td>\n",
              "      <td>181</td>\n",
              "      <td>184</td>\n",
              "      <td>185</td>\n",
              "      <td>187</td>\n",
              "      <td>189</td>\n",
              "      <td>190</td>\n",
              "      <td>191</td>\n",
              "      <td>191</td>\n",
              "      <td>190</td>\n",
              "      <td>191</td>\n",
              "      <td>193</td>\n",
              "      <td>192</td>\n",
              "      <td>191</td>\n",
              "      <td>191</td>\n",
              "      <td>191</td>\n",
              "      <td>191</td>\n",
              "      <td>190</td>\n",
              "      <td>190</td>\n",
              "      <td>189</td>\n",
              "      <td>187</td>\n",
              "      <td>186</td>\n",
              "      <td>184</td>\n",
              "      <td>183</td>\n",
              "      <td>182</td>\n",
              "      <td>181</td>\n",
              "      <td>179</td>\n",
              "      <td>177</td>\n",
              "      <td>179</td>\n",
              "      <td>182</td>\n",
              "      <td>185</td>\n",
              "      <td>187</td>\n",
              "      <td>189</td>\n",
              "      <td>190</td>\n",
              "      <td>192</td>\n",
              "      <td>192</td>\n",
              "      <td>192</td>\n",
              "      <td>192</td>\n",
              "      <td>194</td>\n",
              "      <td>...</td>\n",
              "      <td>190</td>\n",
              "      <td>173</td>\n",
              "      <td>140</td>\n",
              "      <td>80</td>\n",
              "      <td>28</td>\n",
              "      <td>60</td>\n",
              "      <td>70</td>\n",
              "      <td>61</td>\n",
              "      <td>61</td>\n",
              "      <td>78</td>\n",
              "      <td>100</td>\n",
              "      <td>86</td>\n",
              "      <td>136</td>\n",
              "      <td>135</td>\n",
              "      <td>135</td>\n",
              "      <td>135</td>\n",
              "      <td>132</td>\n",
              "      <td>132</td>\n",
              "      <td>136</td>\n",
              "      <td>136</td>\n",
              "      <td>137</td>\n",
              "      <td>144</td>\n",
              "      <td>103</td>\n",
              "      <td>120</td>\n",
              "      <td>197</td>\n",
              "      <td>200</td>\n",
              "      <td>195</td>\n",
              "      <td>196</td>\n",
              "      <td>170</td>\n",
              "      <td>149</td>\n",
              "      <td>119</td>\n",
              "      <td>56</td>\n",
              "      <td>27</td>\n",
              "      <td>58</td>\n",
              "      <td>102</td>\n",
              "      <td>79</td>\n",
              "      <td>47</td>\n",
              "      <td>64</td>\n",
              "      <td>87</td>\n",
              "      <td>93</td>\n",
              "    </tr>\n",
              "    <tr>\n",
              "      <th>27454</th>\n",
              "      <td>23</td>\n",
              "      <td>179</td>\n",
              "      <td>180</td>\n",
              "      <td>180</td>\n",
              "      <td>180</td>\n",
              "      <td>182</td>\n",
              "      <td>181</td>\n",
              "      <td>182</td>\n",
              "      <td>183</td>\n",
              "      <td>182</td>\n",
              "      <td>182</td>\n",
              "      <td>182</td>\n",
              "      <td>181</td>\n",
              "      <td>181</td>\n",
              "      <td>182</td>\n",
              "      <td>181</td>\n",
              "      <td>181</td>\n",
              "      <td>181</td>\n",
              "      <td>181</td>\n",
              "      <td>179</td>\n",
              "      <td>178</td>\n",
              "      <td>178</td>\n",
              "      <td>176</td>\n",
              "      <td>177</td>\n",
              "      <td>178</td>\n",
              "      <td>159</td>\n",
              "      <td>47</td>\n",
              "      <td>30</td>\n",
              "      <td>39</td>\n",
              "      <td>180</td>\n",
              "      <td>182</td>\n",
              "      <td>183</td>\n",
              "      <td>183</td>\n",
              "      <td>183</td>\n",
              "      <td>183</td>\n",
              "      <td>185</td>\n",
              "      <td>184</td>\n",
              "      <td>185</td>\n",
              "      <td>183</td>\n",
              "      <td>184</td>\n",
              "      <td>...</td>\n",
              "      <td>97</td>\n",
              "      <td>97</td>\n",
              "      <td>95</td>\n",
              "      <td>90</td>\n",
              "      <td>92</td>\n",
              "      <td>101</td>\n",
              "      <td>125</td>\n",
              "      <td>160</td>\n",
              "      <td>191</td>\n",
              "      <td>202</td>\n",
              "      <td>213</td>\n",
              "      <td>215</td>\n",
              "      <td>96</td>\n",
              "      <td>88</td>\n",
              "      <td>109</td>\n",
              "      <td>216</td>\n",
              "      <td>208</td>\n",
              "      <td>207</td>\n",
              "      <td>203</td>\n",
              "      <td>178</td>\n",
              "      <td>151</td>\n",
              "      <td>112</td>\n",
              "      <td>87</td>\n",
              "      <td>80</td>\n",
              "      <td>76</td>\n",
              "      <td>80</td>\n",
              "      <td>86</td>\n",
              "      <td>97</td>\n",
              "      <td>102</td>\n",
              "      <td>103</td>\n",
              "      <td>108</td>\n",
              "      <td>132</td>\n",
              "      <td>170</td>\n",
              "      <td>194</td>\n",
              "      <td>214</td>\n",
              "      <td>203</td>\n",
              "      <td>197</td>\n",
              "      <td>205</td>\n",
              "      <td>209</td>\n",
              "      <td>215</td>\n",
              "    </tr>\n",
              "  </tbody>\n",
              "</table>\n",
              "<p>5 rows × 785 columns</p>\n",
              "</div>"
            ],
            "text/plain": [
              "       label  pixel1  pixel2  pixel3  ...  pixel781  pixel782  pixel783  pixel784\n",
              "27450     13     189     189     190  ...       234       200       222       225\n",
              "27451     23     151     154     157  ...       195       195       195       194\n",
              "27452     18     174     174     174  ...       203       202       200       200\n",
              "27453     17     177     181     184  ...        47        64        87        93\n",
              "27454     23     179     180     180  ...       197       205       209       215\n",
              "\n",
              "[5 rows x 785 columns]"
            ]
          },
          "metadata": {
            "tags": []
          },
          "execution_count": 60
        }
      ]
    },
    {
      "cell_type": "code",
      "metadata": {
        "id": "q2mYiTCUbq4e",
        "outputId": "f151fc1e-c412-476b-b776-9e265e98b558",
        "colab": {
          "base_uri": "https://localhost:8080/",
          "height": 623
        }
      },
      "source": [
        "plt.figure(figsize = (10,10)) # Label Count\n",
        "sns.countplot(train_df['label'])"
      ],
      "execution_count": null,
      "outputs": [
        {
          "output_type": "execute_result",
          "data": {
            "text/plain": [
              "<matplotlib.axes._subplots.AxesSubplot at 0x7f928d6496d8>"
            ]
          },
          "metadata": {
            "tags": []
          },
          "execution_count": 61
        },
        {
          "output_type": "display_data",
          "data": {
            "image/png": "[encoded data removed]",
            "text/plain": [
              "<Figure size 720x720 with 1 Axes>"
            ]
          },
          "metadata": {
            "tags": [],
            "needs_background": "light"
          }
        }
      ]
    },
    {
      "cell_type": "code",
      "metadata": {
        "id": "k5KmGA3UdjVa"
      },
      "source": [
        "y_train = train_df['label']\n",
        "y_test = test_df['label']\n",
        "del train_df['label']\n",
        "del test_df['label']"
      ],
      "execution_count": null,
      "outputs": []
    },
    {
      "cell_type": "code",
      "metadata": {
        "id": "3cGXj-k-fApK"
      },
      "source": [
        "from sklearn.preprocessing import LabelBinarizer\n",
        "label_binarizer = LabelBinarizer()\n",
        "y_train = label_binarizer.fit_transform(y_train)\n",
        "y_test = label_binarizer.fit_transform(y_test)\n"
      ],
      "execution_count": null,
      "outputs": []
    },
    {
      "cell_type": "code",
      "metadata": {
        "id": "Yv6L_BFvf5HB"
      },
      "source": [
        "x_train = train_df.values\n",
        "x_test = test_df.values"
      ],
      "execution_count": null,
      "outputs": []
    },
    {
      "cell_type": "code",
      "metadata": {
        "id": "XuEAK1Fpf8qX"
      },
      "source": [
        "# Normalize the data\n",
        "x_train = x_train / 255\n",
        "x_test = x_test / 255"
      ],
      "execution_count": null,
      "outputs": []
    },
    {
      "cell_type": "code",
      "metadata": {
        "id": "Tu_MdptIf_fL",
        "outputId": "61646dfe-9397-4b31-a432-bc1acce5b59b",
        "colab": {
          "base_uri": "https://localhost:8080/",
          "height": 235
        }
      },
      "source": [
        "x_train"
      ],
      "execution_count": null,
      "outputs": [
        {
          "output_type": "execute_result",
          "data": {
            "text/plain": [
              "array([[0.41960784, 0.4627451 , 0.49803922, ..., 0.8       , 0.79607843,\n",
              "        0.79215686],\n",
              "       [0.60784314, 0.61568627, 0.61176471, ..., 0.40392157, 0.52941176,\n",
              "        0.58431373],\n",
              "       [0.73333333, 0.7372549 , 0.7372549 , ..., 0.76470588, 0.76078431,\n",
              "        0.76470588],\n",
              "       ...,\n",
              "       [0.68235294, 0.68235294, 0.68235294, ..., 0.79215686, 0.78431373,\n",
              "        0.78431373],\n",
              "       [0.69411765, 0.70980392, 0.72156863, ..., 0.25098039, 0.34117647,\n",
              "        0.36470588],\n",
              "       [0.70196078, 0.70588235, 0.70588235, ..., 0.80392157, 0.81960784,\n",
              "        0.84313725]])"
            ]
          },
          "metadata": {
            "tags": []
          },
          "execution_count": 66
        }
      ]
    },
    {
      "cell_type": "code",
      "metadata": {
        "id": "NDZrOUfngCmQ",
        "outputId": "730d0471-3aca-4f44-a2c0-5f94643e86b1",
        "colab": {
          "base_uri": "https://localhost:8080/",
          "height": 34
        }
      },
      "source": [
        "x_train.shape"
      ],
      "execution_count": null,
      "outputs": [
        {
          "output_type": "execute_result",
          "data": {
            "text/plain": [
              "(27455, 784)"
            ]
          },
          "metadata": {
            "tags": []
          },
          "execution_count": 67
        }
      ]
    },
    {
      "cell_type": "code",
      "metadata": {
        "id": "dEDEBT4xgLN0"
      },
      "source": [
        "# Reshaping the data from 1-D to 3-D as required through input by CNN's\n",
        "x_train = x_train.reshape(-1,28,28,1)\n",
        "x_test = x_test.reshape(-1,28,28,1)"
      ],
      "execution_count": null,
      "outputs": []
    },
    {
      "cell_type": "code",
      "metadata": {
        "id": "51Mtwk0jgiki",
        "outputId": "ccb8519e-950d-42ce-ffb6-fb36a89aa848",
        "colab": {
          "base_uri": "https://localhost:8080/",
          "height": 394
        }
      },
      "source": [
        "f, ax = plt.subplots(2,5)\n",
        "f.set_size_inches(10, 10)\n",
        "k = 0\n",
        "for i in range(2):\n",
        "    for j in range(5):\n",
        "        ax[i,j].imshow(x_train[k].reshape(28, 28) , cmap = \"gray\")\n",
        "        k += 1\n",
        "    plt.tight_layout()"
      ],
      "execution_count": null,
      "outputs": [
        {
          "output_type": "display_data",
          "data": {
            "image/png": "[encoded data removed]",
            "text/plain": [
              "<Figure size 720x720 with 10 Axes>"
            ]
          },
          "metadata": {
            "tags": [],
            "needs_background": "light"
          }
        }
      ]
    },
    {
      "cell_type": "markdown",
      "metadata": {
        "id": "gD9x6aHmWQDp"
      },
      "source": [
        "# **Hyper-parameter tuning**"
      ]
    },
    {
      "cell_type": "code",
      "metadata": {
        "id": "QKa24XtcRGKv"
      },
      "source": [
        "import keras\n",
        "from keras.layers import Activation\n",
        "from keras.utils.generic_utils import get_custom_objects\n",
        "\n",
        "class Swish(keras.layers.Activation):\n",
        "  def __init__(self, activation, **kwargs):\n",
        "    super(Swish, self).__init__(activation, **kwargs)\n",
        "    self.__name__ = 'Swish'\n",
        "  def swish(inputs):\n",
        "    return inputs * keras.activations.sigmoid(inputs)\n",
        "\n",
        "  get_custom_objects().update({'Swish': Swish(swish)})"
      ],
      "execution_count": null,
      "outputs": []
    },
    {
      "cell_type": "code",
      "metadata": {
        "id": "eUAICRIvRLTB"
      },
      "source": [
        " class Mish(keras.layers.Activation):\n",
        "  def __init__(self, activation, **kwargs):\n",
        "    super(Mish, self).__init__(activation, **kwargs)\n",
        "    self.__name__ ='Mish'\n",
        "  def mish(inputs):\n",
        "    return inputs * keras.activations.tanh(keras.activations.softplus(inputs))\n",
        "  get_custom_objects().update({'Mish': Mish(mish)})"
      ],
      "execution_count": null,
      "outputs": []
    },
    {
      "cell_type": "code",
      "metadata": {
        "id": "6xLAj_ewRXzv"
      },
      "source": [
        "def train():\n",
        "  config_defaults = {'epoch': 20, 'activation':'relu', 'learning_rate':0.001, 'optimizer': 'adam'}\n",
        "  wandb.init(config=config_defaults, entity=\"shweta\", project=\"Sign Language Detection\")\n",
        "\n",
        "  datagen = ImageDataGenerator(\n",
        "        featurewise_center=False,  # set input mean to 0 over the dataset\n",
        "        samplewise_center=False,  # set each sample mean to 0\n",
        "        featurewise_std_normalization=False,  # divide inputs by std of the dataset\n",
        "        samplewise_std_normalization=False,  # divide each input by its std\n",
        "        zca_whitening=False,  # apply ZCA whitening\n",
        "        rotation_range=10,  # randomly rotate images in the range (degrees, 0 to 180)\n",
        "        zoom_range = 0.1, # Randomly zoom image\n",
        "        width_shift_range=0.1,  # randomly shift images horizontally (fraction of total width)\n",
        "        height_shift_range=0.1,  # randomly shift images vertically (fraction of total height)\n",
        "        horizontal_flip=False,  # randomly flip images\n",
        "        vertical_flip=False)  # randomly flip images\n",
        "\n",
        "\n",
        "  datagen.fit(x_train)\n",
        "\n",
        "\n",
        "  model = Sequential()\n",
        "  model.add(Conv2D(75 , (3,3) , strides = 1 , padding = 'same' , activation=wandb.config.activation , input_shape = (28,28,1)))\n",
        "  model.add(MaxPool2D((2,2) , strides = 2 , padding = 'same'))\n",
        "  model.add(Conv2D(50 , (3,3) , strides = 1 , padding = 'same' , activation=wandb.config.activation))\n",
        "  model.add(MaxPool2D((2,2) , strides = 2 , padding = 'same'))\n",
        "  model.add(Conv2D(25 , (3,3) , strides = 1 , padding = 'same' , activation=wandb.config.activation))\n",
        "  model.add(MaxPool2D((2,2) , strides = 2 , padding = 'same'))\n",
        "  model.add(Flatten())\n",
        "  model.add(Dense(units = 512 ,  activation=wandb.config.activation))\n",
        "  model.add(Dropout(0.2))\n",
        "  model.add(Dense(units = 24 , activation = 'softmax'))\n",
        "\n",
        "  from keras.optimizers import Adam, RMSprop\n",
        "\n",
        "  if wandb.config.optimizer=='adam':\n",
        "    optimizer=Adam(learning_rate=wandb.config.learning_rate)\n",
        "  elif wandb.config.optimizer=='rmsprop':\n",
        "    optimizer=RMSprop(learning_rate=wandb.config.learning_rate)\n",
        "\n",
        "  model.compile(optimizer = wandb.config.optimizer , loss = 'categorical_crossentropy' , metrics = ['accuracy'])\n",
        "\n",
        "\n",
        "  history = model.fit(datagen.flow(x_train,y_train, batch_size = 128) ,epochs = wandb.config.epoch , validation_data = (x_test, y_test),callbacks=[wandb.keras.WandbCallback( validation_data=(x_test, y_test))])\n",
        "\n"
      ],
      "execution_count": null,
      "outputs": []
    },
    {
      "cell_type": "code",
      "metadata": {
        "id": "fpsBTSqMUC-2"
      },
      "source": [
        "sweep_config = {\n",
        "  \"name\": \"Sign Language Detection Sweep1\",\n",
        "  'metric': {\n",
        "      'name': 'accuracy',\n",
        "      'goal': 'maximize'\n",
        "    },\n",
        "  \"method\": \"grid\",\n",
        "  \"parameters\": {\n",
        "        \"learning_rate\": {\n",
        "            \"values\": [0.1,0.01,0.001,]\n",
        "        },\n",
        "        \"Activation_Function\": {\n",
        "            \"values\": ['relu', 'Swish','Mish']\n",
        "        },\n",
        "        \"optimizer\": {\n",
        "            \"values\": ['adam', 'rmsprop']\n",
        "        }\n",
        "    }\n",
        "}"
      ],
      "execution_count": null,
      "outputs": []
    },
    {
      "cell_type": "code",
      "metadata": {
        "id": "JQmDM3yvUC7s",
        "outputId": "8b870326-6053-4091-ddc6-3fc74f70a65f",
        "colab": {
          "base_uri": "https://localhost:8080/",
          "height": 50
        }
      },
      "source": [
        "import wandb\n",
        "sweep_id = wandb.sweep(sweep_config,entity=\"shweta\", project=\"Sign Language Detection\")"
      ],
      "execution_count": null,
      "outputs": [
        {
          "output_type": "stream",
          "text": [
            "Create sweep with ID: tql5j8lb\n",
            "Sweep URL: https://app.wandb.ai/shweta/Sign%20Language%20Detection/sweeps/tql5j8lb\n"
          ],
          "name": "stdout"
        }
      ]
    },
    {
      "cell_type": "code",
      "metadata": {
        "id": "TXFxuiiEUC27",
        "colab": {
          "base_uri": "https://localhost:8080/",
          "height": 1000
        },
        "outputId": "500a2d3b-21c4-4965-c56c-57d884206034"
      },
      "source": [
        "wandb.agent(sweep_id, function=train)"
      ],
      "execution_count": null,
      "outputs": [
        {
          "output_type": "stream",
          "text": [
            "wandb: Agent Starting Run: t1zmz963 with config:\n",
            "\tActivation_Function: relu\n",
            "\tlearning_rate: 0.1\n",
            "\toptimizer: adam\n",
            "wandb: Agent Started Run: t1zmz963\n"
          ],
          "name": "stdout"
        },
        {
          "output_type": "display_data",
          "data": {
            "text/html": [
              "\n",
              "                Logging results to <a href=\"https://wandb.com\" target=\"_blank\">Weights & Biases</a> <a href=\"https://docs.wandb.com/integrations/jupyter.html\" target=\"_blank\">(Documentation)</a>.<br/>\n",
              "                Project page: <a href=\"https://app.wandb.ai/shweta/Sign%20Language%20Detection\" target=\"_blank\">https://app.wandb.ai/shweta/Sign%20Language%20Detection</a><br/>\n",
              "                Sweep page: <a href=\"https://app.wandb.ai/shweta/Sign%20Language%20Detection/sweeps/tql5j8lb\" target=\"_blank\">https://app.wandb.ai/shweta/Sign%20Language%20Detection/sweeps/tql5j8lb</a><br/>\n",
              "Run page: <a href=\"https://app.wandb.ai/shweta/Sign%20Language%20Detection/runs/t1zmz963\" target=\"_blank\">https://app.wandb.ai/shweta/Sign%20Language%20Detection/runs/t1zmz963</a><br/>\n",
              "            "
            ],
            "text/plain": [
              "<IPython.core.display.HTML object>"
            ]
          },
          "metadata": {
            "tags": []
          }
        },
        {
          "output_type": "stream",
          "text": [
            "Epoch 1/20\n",
            "215/215 [==============================] - 8s 38ms/step - loss: 1.9774 - accuracy: 0.3965 - val_loss: 0.6598 - val_accuracy: 0.7900\n",
            "Epoch 2/20\n",
            "215/215 [==============================] - 7s 31ms/step - loss: 0.6911 - accuracy: 0.7673 - val_loss: 0.3710 - val_accuracy: 0.8776\n",
            "Epoch 3/20\n",
            "215/215 [==============================] - 7s 31ms/step - loss: 0.3920 - accuracy: 0.8645 - val_loss: 0.1778 - val_accuracy: 0.9338\n",
            "Epoch 4/20\n",
            "215/215 [==============================] - 7s 31ms/step - loss: 0.2480 - accuracy: 0.9174 - val_loss: 0.1019 - val_accuracy: 0.9724\n",
            "Epoch 5/20\n",
            "215/215 [==============================] - 7s 31ms/step - loss: 0.1686 - accuracy: 0.9446 - val_loss: 0.0638 - val_accuracy: 0.9801\n",
            "Epoch 6/20\n",
            "215/215 [==============================] - 7s 31ms/step - loss: 0.1307 - accuracy: 0.9569 - val_loss: 0.0606 - val_accuracy: 0.9816\n",
            "Epoch 7/20\n",
            "215/215 [==============================] - 7s 31ms/step - loss: 0.1072 - accuracy: 0.9645 - val_loss: 0.0341 - val_accuracy: 0.9958\n",
            "Epoch 8/20\n",
            "215/215 [==============================] - 7s 31ms/step - loss: 0.0778 - accuracy: 0.9749 - val_loss: 0.0266 - val_accuracy: 0.9916\n",
            "Epoch 9/20\n",
            "215/215 [==============================] - 7s 31ms/step - loss: 0.0683 - accuracy: 0.9771 - val_loss: 0.0269 - val_accuracy: 0.9918\n",
            "Epoch 10/20\n",
            "215/215 [==============================] - 7s 31ms/step - loss: 0.0621 - accuracy: 0.9793 - val_loss: 0.0218 - val_accuracy: 0.9951\n",
            "Epoch 11/20\n",
            "215/215 [==============================] - 7s 32ms/step - loss: 0.0522 - accuracy: 0.9832 - val_loss: 0.0327 - val_accuracy: 0.9881\n",
            "Epoch 12/20\n",
            "215/215 [==============================] - 7s 31ms/step - loss: 0.0439 - accuracy: 0.9852 - val_loss: 0.0113 - val_accuracy: 0.9972\n",
            "Epoch 13/20\n",
            "215/215 [==============================] - 7s 31ms/step - loss: 0.0405 - accuracy: 0.9871 - val_loss: 0.0201 - val_accuracy: 0.9937\n",
            "Epoch 14/20\n",
            "215/215 [==============================] - 7s 31ms/step - loss: 0.0422 - accuracy: 0.9858 - val_loss: 0.0117 - val_accuracy: 0.9953\n",
            "Epoch 15/20\n",
            "215/215 [==============================] - 7s 31ms/step - loss: 0.0419 - accuracy: 0.9861 - val_loss: 0.0096 - val_accuracy: 0.9976\n",
            "Epoch 16/20\n",
            "215/215 [==============================] - 7s 31ms/step - loss: 0.0339 - accuracy: 0.9896 - val_loss: 0.0057 - val_accuracy: 0.9993\n",
            "Epoch 17/20\n",
            "215/215 [==============================] - 7s 31ms/step - loss: 0.0321 - accuracy: 0.9900 - val_loss: 0.0078 - val_accuracy: 0.9974\n",
            "Epoch 18/20\n",
            "215/215 [==============================] - 7s 31ms/step - loss: 0.0258 - accuracy: 0.9910 - val_loss: 0.0133 - val_accuracy: 0.9950\n",
            "Epoch 19/20\n",
            "215/215 [==============================] - 7s 31ms/step - loss: 0.0270 - accuracy: 0.9917 - val_loss: 0.0067 - val_accuracy: 0.9982\n",
            "Epoch 20/20\n",
            "215/215 [==============================] - 7s 31ms/step - loss: 0.0265 - accuracy: 0.9909 - val_loss: 0.0061 - val_accuracy: 0.9979\n",
            "wandb: Agent Finished Run: t1zmz963 \n",
            "\n",
            "wandb: Agent Starting Run: fpyrpci1 with config:\n",
            "\tActivation_Function: relu\n",
            "\tlearning_rate: 0.1\n",
            "\toptimizer: rmsprop\n",
            "wandb: Agent Started Run: fpyrpci1\n"
          ],
          "name": "stdout"
        },
        {
          "output_type": "display_data",
          "data": {
            "text/html": [
              "\n",
              "                Logging results to <a href=\"https://wandb.com\" target=\"_blank\">Weights & Biases</a> <a href=\"https://docs.wandb.com/integrations/jupyter.html\" target=\"_blank\">(Documentation)</a>.<br/>\n",
              "                Project page: <a href=\"https://app.wandb.ai/shweta/Sign%20Language%20Detection\" target=\"_blank\">https://app.wandb.ai/shweta/Sign%20Language%20Detection</a><br/>\n",
              "                Sweep page: <a href=\"https://app.wandb.ai/shweta/Sign%20Language%20Detection/sweeps/tql5j8lb\" target=\"_blank\">https://app.wandb.ai/shweta/Sign%20Language%20Detection/sweeps/tql5j8lb</a><br/>\n",
              "Run page: <a href=\"https://app.wandb.ai/shweta/Sign%20Language%20Detection/runs/fpyrpci1\" target=\"_blank\">https://app.wandb.ai/shweta/Sign%20Language%20Detection/runs/fpyrpci1</a><br/>\n",
              "            "
            ],
            "text/plain": [
              "<IPython.core.display.HTML object>"
            ]
          },
          "metadata": {
            "tags": []
          }
        },
        {
          "output_type": "stream",
          "text": [
            "Epoch 1/20\n",
            "215/215 [==============================] - 8s 38ms/step - loss: 2.1074 - accuracy: 0.3562 - val_loss: 0.9146 - val_accuracy: 0.7047\n",
            "Epoch 2/20\n",
            "215/215 [==============================] - 7s 31ms/step - loss: 0.8595 - accuracy: 0.7183 - val_loss: 0.3928 - val_accuracy: 0.8705\n",
            "Epoch 3/20\n",
            "215/215 [==============================] - 7s 31ms/step - loss: 0.4406 - accuracy: 0.8519 - val_loss: 0.1879 - val_accuracy: 0.9380\n",
            "Epoch 4/20\n",
            "215/215 [==============================] - 7s 31ms/step - loss: 0.2634 - accuracy: 0.9103 - val_loss: 0.1197 - val_accuracy: 0.9545\n",
            "Epoch 5/20\n",
            "215/215 [==============================] - 7s 30ms/step - loss: 0.1763 - accuracy: 0.9405 - val_loss: 0.0660 - val_accuracy: 0.9806\n",
            "Epoch 6/20\n",
            "215/215 [==============================] - 7s 31ms/step - loss: 0.1211 - accuracy: 0.9591 - val_loss: 0.1051 - val_accuracy: 0.9647\n",
            "Epoch 7/20\n",
            "215/215 [==============================] - 7s 31ms/step - loss: 0.0902 - accuracy: 0.9696 - val_loss: 0.0649 - val_accuracy: 0.9780\n",
            "Epoch 8/20\n",
            "215/215 [==============================] - 7s 31ms/step - loss: 0.0761 - accuracy: 0.9746 - val_loss: 0.0241 - val_accuracy: 0.9909\n",
            "Epoch 9/20\n",
            "215/215 [==============================] - 7s 31ms/step - loss: 0.0636 - accuracy: 0.9789 - val_loss: 0.0462 - val_accuracy: 0.9861\n",
            "Epoch 10/20\n",
            "215/215 [==============================] - 7s 31ms/step - loss: 0.0517 - accuracy: 0.9830 - val_loss: 0.0143 - val_accuracy: 0.9965\n",
            "Epoch 11/20\n",
            "215/215 [==============================] - 7s 31ms/step - loss: 0.0474 - accuracy: 0.9843 - val_loss: 0.0198 - val_accuracy: 0.9958\n",
            "Epoch 12/20\n",
            "215/215 [==============================] - 7s 31ms/step - loss: 0.0415 - accuracy: 0.9866 - val_loss: 0.0298 - val_accuracy: 0.9933\n",
            "Epoch 13/20\n",
            "215/215 [==============================] - 7s 31ms/step - loss: 0.0336 - accuracy: 0.9893 - val_loss: 0.0146 - val_accuracy: 0.9962\n",
            "Epoch 14/20\n",
            "215/215 [==============================] - 7s 31ms/step - loss: 0.0333 - accuracy: 0.9888 - val_loss: 0.0148 - val_accuracy: 0.9944\n",
            "Epoch 15/20\n",
            "215/215 [==============================] - 7s 31ms/step - loss: 0.0300 - accuracy: 0.9904 - val_loss: 0.0189 - val_accuracy: 0.9940\n",
            "Epoch 16/20\n",
            "215/215 [==============================] - 7s 31ms/step - loss: 0.0266 - accuracy: 0.9919 - val_loss: 0.0195 - val_accuracy: 0.9943\n",
            "Epoch 17/20\n",
            "215/215 [==============================] - 7s 32ms/step - loss: 0.0261 - accuracy: 0.9916 - val_loss: 0.0015 - val_accuracy: 1.0000\n",
            "Epoch 18/20\n",
            "215/215 [==============================] - 7s 32ms/step - loss: 0.0274 - accuracy: 0.9914 - val_loss: 0.0242 - val_accuracy: 0.9919\n",
            "Epoch 19/20\n",
            "215/215 [==============================] - 7s 32ms/step - loss: 0.0205 - accuracy: 0.9934 - val_loss: 0.0416 - val_accuracy: 0.9880\n",
            "Epoch 20/20\n",
            "215/215 [==============================] - 7s 32ms/step - loss: 0.0205 - accuracy: 0.9938 - val_loss: 0.0082 - val_accuracy: 0.9964\n",
            "wandb: Agent Finished Run: fpyrpci1 \n",
            "\n",
            "wandb: Agent Starting Run: riuh9utu with config:\n",
            "\tActivation_Function: relu\n",
            "\tlearning_rate: 0.01\n",
            "\toptimizer: adam\n",
            "wandb: Agent Started Run: riuh9utu\n"
          ],
          "name": "stdout"
        },
        {
          "output_type": "display_data",
          "data": {
            "text/html": [
              "\n",
              "                Logging results to <a href=\"https://wandb.com\" target=\"_blank\">Weights & Biases</a> <a href=\"https://docs.wandb.com/integrations/jupyter.html\" target=\"_blank\">(Documentation)</a>.<br/>\n",
              "                Project page: <a href=\"https://app.wandb.ai/shweta/Sign%20Language%20Detection\" target=\"_blank\">https://app.wandb.ai/shweta/Sign%20Language%20Detection</a><br/>\n",
              "                Sweep page: <a href=\"https://app.wandb.ai/shweta/Sign%20Language%20Detection/sweeps/tql5j8lb\" target=\"_blank\">https://app.wandb.ai/shweta/Sign%20Language%20Detection/sweeps/tql5j8lb</a><br/>\n",
              "Run page: <a href=\"https://app.wandb.ai/shweta/Sign%20Language%20Detection/runs/riuh9utu\" target=\"_blank\">https://app.wandb.ai/shweta/Sign%20Language%20Detection/runs/riuh9utu</a><br/>\n",
              "            "
            ],
            "text/plain": [
              "<IPython.core.display.HTML object>"
            ]
          },
          "metadata": {
            "tags": []
          }
        },
        {
          "output_type": "stream",
          "text": [
            "Epoch 1/20\n",
            "215/215 [==============================] - 8s 40ms/step - loss: 2.0104 - accuracy: 0.3837 - val_loss: 0.6675 - val_accuracy: 0.7959\n",
            "Epoch 2/20\n",
            "215/215 [==============================] - 7s 32ms/step - loss: 0.7047 - accuracy: 0.7667 - val_loss: 0.4004 - val_accuracy: 0.8374\n",
            "Epoch 3/20\n",
            "215/215 [==============================] - 7s 32ms/step - loss: 0.3778 - accuracy: 0.8720 - val_loss: 0.1807 - val_accuracy: 0.9453\n",
            "Epoch 4/20\n",
            "215/215 [==============================] - 7s 32ms/step - loss: 0.2495 - accuracy: 0.9149 - val_loss: 0.0925 - val_accuracy: 0.9759\n",
            "Epoch 5/20\n",
            "215/215 [==============================] - 7s 32ms/step - loss: 0.1680 - accuracy: 0.9430 - val_loss: 0.0813 - val_accuracy: 0.9721\n",
            "Epoch 6/20\n",
            "215/215 [==============================] - 7s 32ms/step - loss: 0.1297 - accuracy: 0.9568 - val_loss: 0.0911 - val_accuracy: 0.9658\n",
            "Epoch 7/20\n",
            "215/215 [==============================] - 7s 32ms/step - loss: 0.1037 - accuracy: 0.9659 - val_loss: 0.0674 - val_accuracy: 0.9755\n",
            "Epoch 8/20\n",
            "215/215 [==============================] - 7s 32ms/step - loss: 0.0787 - accuracy: 0.9744 - val_loss: 0.0529 - val_accuracy: 0.9872\n",
            "Epoch 9/20\n",
            "215/215 [==============================] - 7s 32ms/step - loss: 0.0672 - accuracy: 0.9783 - val_loss: 0.0453 - val_accuracy: 0.9781\n",
            "Epoch 10/20\n",
            "215/215 [==============================] - 7s 32ms/step - loss: 0.0588 - accuracy: 0.9811 - val_loss: 0.0464 - val_accuracy: 0.9760\n",
            "Epoch 11/20\n",
            "215/215 [==============================] - 7s 31ms/step - loss: 0.0545 - accuracy: 0.9814 - val_loss: 0.0408 - val_accuracy: 0.9851\n",
            "Epoch 12/20\n",
            "215/215 [==============================] - 7s 32ms/step - loss: 0.0446 - accuracy: 0.9860 - val_loss: 0.0174 - val_accuracy: 0.9954\n",
            "Epoch 13/20\n",
            "215/215 [==============================] - 7s 32ms/step - loss: 0.0357 - accuracy: 0.9893 - val_loss: 0.0264 - val_accuracy: 0.9877\n",
            "Epoch 14/20\n",
            "215/215 [==============================] - 7s 32ms/step - loss: 0.0406 - accuracy: 0.9869 - val_loss: 0.0347 - val_accuracy: 0.9826\n",
            "Epoch 15/20\n",
            "215/215 [==============================] - 7s 32ms/step - loss: 0.0350 - accuracy: 0.9886 - val_loss: 0.0197 - val_accuracy: 0.9927\n",
            "Epoch 16/20\n",
            "215/215 [==============================] - 7s 32ms/step - loss: 0.0295 - accuracy: 0.9902 - val_loss: 0.0109 - val_accuracy: 0.9962\n",
            "Epoch 17/20\n",
            "215/215 [==============================] - 7s 33ms/step - loss: 0.0313 - accuracy: 0.9905 - val_loss: 0.0133 - val_accuracy: 0.9955\n",
            "Epoch 18/20\n",
            "215/215 [==============================] - 7s 31ms/step - loss: 0.0318 - accuracy: 0.9897 - val_loss: 0.0209 - val_accuracy: 0.9922\n",
            "Epoch 19/20\n",
            "215/215 [==============================] - 7s 32ms/step - loss: 0.0283 - accuracy: 0.9907 - val_loss: 0.0399 - val_accuracy: 0.9849\n",
            "Epoch 20/20\n",
            "215/215 [==============================] - 7s 32ms/step - loss: 0.0282 - accuracy: 0.9907 - val_loss: 0.0140 - val_accuracy: 0.9941\n",
            "wandb: Agent Finished Run: riuh9utu \n",
            "\n",
            "wandb: Agent Starting Run: ijhp4ioj with config:\n",
            "\tActivation_Function: relu\n",
            "\tlearning_rate: 0.01\n",
            "\toptimizer: rmsprop\n",
            "wandb: Agent Started Run: ijhp4ioj\n"
          ],
          "name": "stdout"
        },
        {
          "output_type": "display_data",
          "data": {
            "text/html": [
              "\n",
              "                Logging results to <a href=\"https://wandb.com\" target=\"_blank\">Weights & Biases</a> <a href=\"https://docs.wandb.com/integrations/jupyter.html\" target=\"_blank\">(Documentation)</a>.<br/>\n",
              "                Project page: <a href=\"https://app.wandb.ai/shweta/Sign%20Language%20Detection\" target=\"_blank\">https://app.wandb.ai/shweta/Sign%20Language%20Detection</a><br/>\n",
              "                Sweep page: <a href=\"https://app.wandb.ai/shweta/Sign%20Language%20Detection/sweeps/tql5j8lb\" target=\"_blank\">https://app.wandb.ai/shweta/Sign%20Language%20Detection/sweeps/tql5j8lb</a><br/>\n",
              "Run page: <a href=\"https://app.wandb.ai/shweta/Sign%20Language%20Detection/runs/ijhp4ioj\" target=\"_blank\">https://app.wandb.ai/shweta/Sign%20Language%20Detection/runs/ijhp4ioj</a><br/>\n",
              "            "
            ],
            "text/plain": [
              "<IPython.core.display.HTML object>"
            ]
          },
          "metadata": {
            "tags": []
          }
        },
        {
          "output_type": "stream",
          "text": [
            "Epoch 1/20\n",
            "215/215 [==============================] - 8s 39ms/step - loss: 2.1051 - accuracy: 0.3548 - val_loss: 0.8435 - val_accuracy: 0.7036\n",
            "Epoch 2/20\n",
            "215/215 [==============================] - 7s 31ms/step - loss: 0.8490 - accuracy: 0.7191 - val_loss: 0.4472 - val_accuracy: 0.8468\n",
            "Epoch 3/20\n",
            "215/215 [==============================] - 7s 32ms/step - loss: 0.4336 - accuracy: 0.8543 - val_loss: 0.2255 - val_accuracy: 0.9193\n",
            "Epoch 4/20\n",
            "215/215 [==============================] - 7s 32ms/step - loss: 0.2577 - accuracy: 0.9128 - val_loss: 0.1058 - val_accuracy: 0.9752\n",
            "Epoch 5/20\n",
            "215/215 [==============================] - 7s 32ms/step - loss: 0.1698 - accuracy: 0.9418 - val_loss: 0.0800 - val_accuracy: 0.9723\n",
            "Epoch 6/20\n",
            "215/215 [==============================] - 7s 32ms/step - loss: 0.1227 - accuracy: 0.9578 - val_loss: 0.0719 - val_accuracy: 0.9791\n",
            "Epoch 7/20\n",
            "215/215 [==============================] - 7s 32ms/step - loss: 0.0929 - accuracy: 0.9687 - val_loss: 0.0489 - val_accuracy: 0.9798\n",
            "Epoch 8/20\n",
            "215/215 [==============================] - 7s 32ms/step - loss: 0.0719 - accuracy: 0.9773 - val_loss: 0.0453 - val_accuracy: 0.9841\n",
            "Epoch 9/20\n",
            "215/215 [==============================] - 7s 32ms/step - loss: 0.0546 - accuracy: 0.9815 - val_loss: 0.0192 - val_accuracy: 0.9932\n",
            "Epoch 10/20\n",
            "215/215 [==============================] - 7s 31ms/step - loss: 0.0525 - accuracy: 0.9838 - val_loss: 0.0155 - val_accuracy: 0.9948\n",
            "Epoch 11/20\n",
            "215/215 [==============================] - 7s 31ms/step - loss: 0.0428 - accuracy: 0.9863 - val_loss: 0.0216 - val_accuracy: 0.9955\n",
            "Epoch 12/20\n",
            "215/215 [==============================] - 7s 31ms/step - loss: 0.0345 - accuracy: 0.9885 - val_loss: 0.0089 - val_accuracy: 0.9969\n",
            "Epoch 13/20\n",
            "215/215 [==============================] - 7s 31ms/step - loss: 0.0344 - accuracy: 0.9886 - val_loss: 0.0256 - val_accuracy: 0.9958\n",
            "Epoch 14/20\n",
            "215/215 [==============================] - 7s 31ms/step - loss: 0.0307 - accuracy: 0.9899 - val_loss: 0.0280 - val_accuracy: 0.9951\n",
            "Epoch 15/20\n",
            "215/215 [==============================] - 7s 31ms/step - loss: 0.0287 - accuracy: 0.9909 - val_loss: 0.0187 - val_accuracy: 0.9955\n",
            "Epoch 16/20\n",
            "215/215 [==============================] - 7s 31ms/step - loss: 0.0257 - accuracy: 0.9921 - val_loss: 0.0196 - val_accuracy: 0.9972\n",
            "Epoch 17/20\n",
            "215/215 [==============================] - 7s 31ms/step - loss: 0.0242 - accuracy: 0.9931 - val_loss: 0.0231 - val_accuracy: 0.9929\n",
            "Epoch 18/20\n",
            "215/215 [==============================] - 7s 31ms/step - loss: 0.0232 - accuracy: 0.9924 - val_loss: 0.0089 - val_accuracy: 0.9969\n",
            "Epoch 19/20\n",
            "215/215 [==============================] - 7s 31ms/step - loss: 0.0237 - accuracy: 0.9927 - val_loss: 0.0148 - val_accuracy: 0.9955\n",
            "Epoch 20/20\n",
            "215/215 [==============================] - 7s 31ms/step - loss: 0.0207 - accuracy: 0.9936 - val_loss: 0.0081 - val_accuracy: 0.9968\n",
            "wandb: Agent Finished Run: ijhp4ioj \n",
            "\n",
            "wandb: Agent Starting Run: 8xf0yaev with config:\n",
            "\tActivation_Function: relu\n",
            "\tlearning_rate: 0.001\n",
            "\toptimizer: adam\n",
            "wandb: Agent Started Run: 8xf0yaev\n"
          ],
          "name": "stdout"
        },
        {
          "output_type": "display_data",
          "data": {
            "text/html": [
              "\n",
              "                Logging results to <a href=\"https://wandb.com\" target=\"_blank\">Weights & Biases</a> <a href=\"https://docs.wandb.com/integrations/jupyter.html\" target=\"_blank\">(Documentation)</a>.<br/>\n",
              "                Project page: <a href=\"https://app.wandb.ai/shweta/Sign%20Language%20Detection\" target=\"_blank\">https://app.wandb.ai/shweta/Sign%20Language%20Detection</a><br/>\n",
              "                Sweep page: <a href=\"https://app.wandb.ai/shweta/Sign%20Language%20Detection/sweeps/tql5j8lb\" target=\"_blank\">https://app.wandb.ai/shweta/Sign%20Language%20Detection/sweeps/tql5j8lb</a><br/>\n",
              "Run page: <a href=\"https://app.wandb.ai/shweta/Sign%20Language%20Detection/runs/8xf0yaev\" target=\"_blank\">https://app.wandb.ai/shweta/Sign%20Language%20Detection/runs/8xf0yaev</a><br/>\n",
              "            "
            ],
            "text/plain": [
              "<IPython.core.display.HTML object>"
            ]
          },
          "metadata": {
            "tags": []
          }
        },
        {
          "output_type": "stream",
          "text": [
            "Epoch 1/20\n",
            "215/215 [==============================] - 8s 38ms/step - loss: 1.9808 - accuracy: 0.3910 - val_loss: 0.7146 - val_accuracy: 0.7847\n",
            "Epoch 2/20\n",
            "215/215 [==============================] - 7s 31ms/step - loss: 0.6801 - accuracy: 0.7765 - val_loss: 0.2910 - val_accuracy: 0.9030\n",
            "Epoch 3/20\n",
            "215/215 [==============================] - 7s 31ms/step - loss: 0.3526 - accuracy: 0.8794 - val_loss: 0.2096 - val_accuracy: 0.9226\n",
            "Epoch 4/20\n",
            "215/215 [==============================] - 7s 31ms/step - loss: 0.2282 - accuracy: 0.9226 - val_loss: 0.1477 - val_accuracy: 0.9465\n",
            "Epoch 5/20\n",
            "215/215 [==============================] - 7s 32ms/step - loss: 0.1561 - accuracy: 0.9489 - val_loss: 0.1110 - val_accuracy: 0.9614\n",
            "Epoch 6/20\n",
            "215/215 [==============================] - 7s 31ms/step - loss: 0.1101 - accuracy: 0.9647 - val_loss: 0.0384 - val_accuracy: 0.9870\n",
            "Epoch 7/20\n",
            "215/215 [==============================] - 7s 31ms/step - loss: 0.0877 - accuracy: 0.9714 - val_loss: 0.0453 - val_accuracy: 0.9838\n",
            "Epoch 8/20\n",
            "215/215 [==============================] - 7s 32ms/step - loss: 0.0727 - accuracy: 0.9761 - val_loss: 0.0254 - val_accuracy: 0.9937\n",
            "Epoch 9/20\n",
            "215/215 [==============================] - 7s 33ms/step - loss: 0.0622 - accuracy: 0.9792 - val_loss: 0.0424 - val_accuracy: 0.9845\n",
            "Epoch 10/20\n",
            "215/215 [==============================] - 7s 33ms/step - loss: 0.0534 - accuracy: 0.9836 - val_loss: 0.0151 - val_accuracy: 0.9955\n",
            "Epoch 11/20\n",
            "215/215 [==============================] - 7s 33ms/step - loss: 0.0523 - accuracy: 0.9827 - val_loss: 0.0393 - val_accuracy: 0.9881\n",
            "Epoch 12/20\n",
            "215/215 [==============================] - 7s 33ms/step - loss: 0.0474 - accuracy: 0.9852 - val_loss: 0.0242 - val_accuracy: 0.9944\n",
            "Epoch 13/20\n",
            "215/215 [==============================] - 7s 33ms/step - loss: 0.0369 - accuracy: 0.9880 - val_loss: 0.0078 - val_accuracy: 0.9975\n",
            "Epoch 14/20\n",
            "215/215 [==============================] - 7s 33ms/step - loss: 0.0403 - accuracy: 0.9862 - val_loss: 0.0132 - val_accuracy: 0.9968\n",
            "Epoch 15/20\n",
            "215/215 [==============================] - 7s 32ms/step - loss: 0.0324 - accuracy: 0.9897 - val_loss: 0.0185 - val_accuracy: 0.9934\n",
            "Epoch 16/20\n",
            "215/215 [==============================] - 7s 32ms/step - loss: 0.0319 - accuracy: 0.9894 - val_loss: 0.0400 - val_accuracy: 0.9813\n",
            "Epoch 17/20\n",
            "215/215 [==============================] - 7s 32ms/step - loss: 0.0273 - accuracy: 0.9912 - val_loss: 0.0272 - val_accuracy: 0.9914\n",
            "Epoch 18/20\n",
            "215/215 [==============================] - 7s 32ms/step - loss: 0.0295 - accuracy: 0.9906 - val_loss: 0.0131 - val_accuracy: 0.9962\n",
            "Epoch 19/20\n",
            "215/215 [==============================] - 7s 32ms/step - loss: 0.0321 - accuracy: 0.9888 - val_loss: 0.0183 - val_accuracy: 0.9957\n",
            "Epoch 20/20\n",
            "215/215 [==============================] - 7s 32ms/step - loss: 0.0259 - accuracy: 0.9907 - val_loss: 0.0062 - val_accuracy: 0.9972\n",
            "wandb: Agent Finished Run: 8xf0yaev \n",
            "\n",
            "wandb: Agent Starting Run: er224hi2 with config:\n",
            "\tActivation_Function: relu\n",
            "\tlearning_rate: 0.001\n",
            "\toptimizer: rmsprop\n",
            "wandb: Agent Started Run: er224hi2\n"
          ],
          "name": "stdout"
        },
        {
          "output_type": "display_data",
          "data": {
            "text/html": [
              "\n",
              "                Logging results to <a href=\"https://wandb.com\" target=\"_blank\">Weights & Biases</a> <a href=\"https://docs.wandb.com/integrations/jupyter.html\" target=\"_blank\">(Documentation)</a>.<br/>\n",
              "                Project page: <a href=\"https://app.wandb.ai/shweta/Sign%20Language%20Detection\" target=\"_blank\">https://app.wandb.ai/shweta/Sign%20Language%20Detection</a><br/>\n",
              "                Sweep page: <a href=\"https://app.wandb.ai/shweta/Sign%20Language%20Detection/sweeps/tql5j8lb\" target=\"_blank\">https://app.wandb.ai/shweta/Sign%20Language%20Detection/sweeps/tql5j8lb</a><br/>\n",
              "Run page: <a href=\"https://app.wandb.ai/shweta/Sign%20Language%20Detection/runs/er224hi2\" target=\"_blank\">https://app.wandb.ai/shweta/Sign%20Language%20Detection/runs/er224hi2</a><br/>\n",
              "            "
            ],
            "text/plain": [
              "<IPython.core.display.HTML object>"
            ]
          },
          "metadata": {
            "tags": []
          }
        },
        {
          "output_type": "stream",
          "text": [
            "Epoch 1/20\n",
            "215/215 [==============================] - 9s 40ms/step - loss: 2.1185 - accuracy: 0.3514 - val_loss: 0.9280 - val_accuracy: 0.6877\n",
            "Epoch 2/20\n",
            "215/215 [==============================] - 7s 32ms/step - loss: 0.8593 - accuracy: 0.7147 - val_loss: 0.3963 - val_accuracy: 0.8590\n",
            "Epoch 3/20\n",
            "215/215 [==============================] - 7s 31ms/step - loss: 0.4645 - accuracy: 0.8444 - val_loss: 0.2221 - val_accuracy: 0.9232\n",
            "Epoch 4/20\n",
            "215/215 [==============================] - 7s 32ms/step - loss: 0.2804 - accuracy: 0.9040 - val_loss: 0.2306 - val_accuracy: 0.9087\n",
            "Epoch 5/20\n",
            "215/215 [==============================] - 7s 32ms/step - loss: 0.1916 - accuracy: 0.9355 - val_loss: 0.1541 - val_accuracy: 0.9459\n",
            "Epoch 6/20\n",
            "215/215 [==============================] - 7s 32ms/step - loss: 0.1302 - accuracy: 0.9567 - val_loss: 0.0602 - val_accuracy: 0.9816\n",
            "Epoch 7/20\n",
            "215/215 [==============================] - 7s 32ms/step - loss: 0.0959 - accuracy: 0.9684 - val_loss: 0.0503 - val_accuracy: 0.9873\n",
            "Epoch 8/20\n",
            "215/215 [==============================] - 7s 30ms/step - loss: 0.0746 - accuracy: 0.9756 - val_loss: 0.0883 - val_accuracy: 0.9653\n",
            "Epoch 9/20\n",
            "215/215 [==============================] - 7s 31ms/step - loss: 0.0644 - accuracy: 0.9777 - val_loss: 0.0333 - val_accuracy: 0.9934\n",
            "Epoch 10/20\n",
            "215/215 [==============================] - 7s 31ms/step - loss: 0.0523 - accuracy: 0.9824 - val_loss: 0.0171 - val_accuracy: 0.9974\n",
            "Epoch 11/20\n",
            "215/215 [==============================] - 7s 32ms/step - loss: 0.0447 - accuracy: 0.9847 - val_loss: 0.0241 - val_accuracy: 0.9951\n",
            "Epoch 12/20\n",
            "215/215 [==============================] - 7s 32ms/step - loss: 0.0411 - accuracy: 0.9862 - val_loss: 0.0262 - val_accuracy: 0.9953\n",
            "Epoch 13/20\n",
            "215/215 [==============================] - 7s 32ms/step - loss: 0.0377 - accuracy: 0.9878 - val_loss: 0.0095 - val_accuracy: 0.9969\n",
            "Epoch 14/20\n",
            "215/215 [==============================] - 7s 31ms/step - loss: 0.0299 - accuracy: 0.9898 - val_loss: 0.0147 - val_accuracy: 0.9971\n",
            "Epoch 15/20\n",
            "215/215 [==============================] - 7s 31ms/step - loss: 0.0268 - accuracy: 0.9910 - val_loss: 0.0213 - val_accuracy: 0.9972\n",
            "Epoch 16/20\n",
            "215/215 [==============================] - 7s 32ms/step - loss: 0.0232 - accuracy: 0.9928 - val_loss: 0.0099 - val_accuracy: 0.9972\n",
            "Epoch 17/20\n",
            "215/215 [==============================] - 7s 32ms/step - loss: 0.0247 - accuracy: 0.9922 - val_loss: 0.0096 - val_accuracy: 0.9969\n",
            "Epoch 18/20\n",
            "215/215 [==============================] - 7s 31ms/step - loss: 0.0210 - accuracy: 0.9932 - val_loss: 0.0229 - val_accuracy: 0.9902\n",
            "Epoch 19/20\n",
            "215/215 [==============================] - 7s 31ms/step - loss: 0.0205 - accuracy: 0.9934 - val_loss: 0.0099 - val_accuracy: 0.9961\n",
            "Epoch 20/20\n",
            "215/215 [==============================] - 7s 31ms/step - loss: 0.0188 - accuracy: 0.9939 - val_loss: 0.0168 - val_accuracy: 0.9927\n",
            "wandb: Agent Finished Run: er224hi2 \n",
            "\n",
            "wandb: Agent Starting Run: 9qbwsh2q with config:\n",
            "\tActivation_Function: Swish\n",
            "\tlearning_rate: 0.1\n",
            "\toptimizer: adam\n",
            "wandb: Agent Started Run: 9qbwsh2q\n"
          ],
          "name": "stdout"
        },
        {
          "output_type": "display_data",
          "data": {
            "text/html": [
              "\n",
              "                Logging results to <a href=\"https://wandb.com\" target=\"_blank\">Weights & Biases</a> <a href=\"https://docs.wandb.com/integrations/jupyter.html\" target=\"_blank\">(Documentation)</a>.<br/>\n",
              "                Project page: <a href=\"https://app.wandb.ai/shweta/Sign%20Language%20Detection\" target=\"_blank\">https://app.wandb.ai/shweta/Sign%20Language%20Detection</a><br/>\n",
              "                Sweep page: <a href=\"https://app.wandb.ai/shweta/Sign%20Language%20Detection/sweeps/tql5j8lb\" target=\"_blank\">https://app.wandb.ai/shweta/Sign%20Language%20Detection/sweeps/tql5j8lb</a><br/>\n",
              "Run page: <a href=\"https://app.wandb.ai/shweta/Sign%20Language%20Detection/runs/9qbwsh2q\" target=\"_blank\">https://app.wandb.ai/shweta/Sign%20Language%20Detection/runs/9qbwsh2q</a><br/>\n",
              "            "
            ],
            "text/plain": [
              "<IPython.core.display.HTML object>"
            ]
          },
          "metadata": {
            "tags": []
          }
        },
        {
          "output_type": "stream",
          "text": [
            "Epoch 1/20\n",
            "215/215 [==============================] - 8s 39ms/step - loss: 2.1134 - accuracy: 0.3518 - val_loss: 0.8264 - val_accuracy: 0.7524\n",
            "Epoch 2/20\n",
            "215/215 [==============================] - 7s 32ms/step - loss: 0.8227 - accuracy: 0.7247 - val_loss: 0.3672 - val_accuracy: 0.8687\n",
            "Epoch 3/20\n",
            "215/215 [==============================] - 7s 32ms/step - loss: 0.4461 - accuracy: 0.8484 - val_loss: 0.2146 - val_accuracy: 0.9294\n",
            "Epoch 4/20\n",
            "215/215 [==============================] - 7s 32ms/step - loss: 0.2660 - accuracy: 0.9116 - val_loss: 0.1176 - val_accuracy: 0.9654\n",
            "Epoch 5/20\n",
            "215/215 [==============================] - 7s 31ms/step - loss: 0.1915 - accuracy: 0.9349 - val_loss: 0.0639 - val_accuracy: 0.9844\n",
            "Epoch 6/20\n",
            "215/215 [==============================] - 7s 31ms/step - loss: 0.1464 - accuracy: 0.9512 - val_loss: 0.0772 - val_accuracy: 0.9709\n",
            "Epoch 7/20\n",
            "215/215 [==============================] - 7s 31ms/step - loss: 0.1086 - accuracy: 0.9643 - val_loss: 0.0485 - val_accuracy: 0.9809\n",
            "Epoch 8/20\n",
            "215/215 [==============================] - 7s 31ms/step - loss: 0.0868 - accuracy: 0.9716 - val_loss: 0.0699 - val_accuracy: 0.9791\n",
            "Epoch 9/20\n",
            "215/215 [==============================] - 7s 31ms/step - loss: 0.0786 - accuracy: 0.9740 - val_loss: 0.0340 - val_accuracy: 0.9907\n",
            "Epoch 10/20\n",
            "215/215 [==============================] - 7s 31ms/step - loss: 0.0713 - accuracy: 0.9771 - val_loss: 0.0304 - val_accuracy: 0.9872\n",
            "Epoch 11/20\n",
            "215/215 [==============================] - 7s 31ms/step - loss: 0.0615 - accuracy: 0.9796 - val_loss: 0.0354 - val_accuracy: 0.9856\n",
            "Epoch 12/20\n",
            "215/215 [==============================] - 7s 30ms/step - loss: 0.0518 - accuracy: 0.9829 - val_loss: 0.0161 - val_accuracy: 0.9953\n",
            "Epoch 13/20\n",
            "215/215 [==============================] - 7s 31ms/step - loss: 0.0537 - accuracy: 0.9822 - val_loss: 0.0154 - val_accuracy: 0.9955\n",
            "Epoch 14/20\n",
            "215/215 [==============================] - 7s 31ms/step - loss: 0.0419 - accuracy: 0.9866 - val_loss: 0.0396 - val_accuracy: 0.9854\n",
            "Epoch 15/20\n",
            "215/215 [==============================] - 7s 31ms/step - loss: 0.0393 - accuracy: 0.9871 - val_loss: 0.0160 - val_accuracy: 0.9932\n",
            "Epoch 16/20\n",
            "215/215 [==============================] - 7s 31ms/step - loss: 0.0341 - accuracy: 0.9890 - val_loss: 0.0202 - val_accuracy: 0.9950\n",
            "Epoch 17/20\n",
            "215/215 [==============================] - 6s 30ms/step - loss: 0.0384 - accuracy: 0.9875 - val_loss: 0.0175 - val_accuracy: 0.9965\n",
            "Epoch 18/20\n",
            "215/215 [==============================] - 6s 30ms/step - loss: 0.0331 - accuracy: 0.9891 - val_loss: 0.0150 - val_accuracy: 0.9934\n",
            "Epoch 19/20\n",
            "215/215 [==============================] - 7s 31ms/step - loss: 0.0337 - accuracy: 0.9886 - val_loss: 0.0147 - val_accuracy: 0.9939\n",
            "Epoch 20/20\n",
            "215/215 [==============================] - 7s 31ms/step - loss: 0.0245 - accuracy: 0.9919 - val_loss: 0.0269 - val_accuracy: 0.9914\n",
            "wandb: Agent Finished Run: 9qbwsh2q \n",
            "\n",
            "wandb: Agent Starting Run: 40m18wiv with config:\n",
            "\tActivation_Function: Swish\n",
            "\tlearning_rate: 0.1\n",
            "\toptimizer: rmsprop\n",
            "wandb: Agent Started Run: 40m18wiv\n"
          ],
          "name": "stdout"
        },
        {
          "output_type": "display_data",
          "data": {
            "text/html": [
              "\n",
              "                Logging results to <a href=\"https://wandb.com\" target=\"_blank\">Weights & Biases</a> <a href=\"https://docs.wandb.com/integrations/jupyter.html\" target=\"_blank\">(Documentation)</a>.<br/>\n",
              "                Project page: <a href=\"https://app.wandb.ai/shweta/Sign%20Language%20Detection\" target=\"_blank\">https://app.wandb.ai/shweta/Sign%20Language%20Detection</a><br/>\n",
              "                Sweep page: <a href=\"https://app.wandb.ai/shweta/Sign%20Language%20Detection/sweeps/tql5j8lb\" target=\"_blank\">https://app.wandb.ai/shweta/Sign%20Language%20Detection/sweeps/tql5j8lb</a><br/>\n",
              "Run page: <a href=\"https://app.wandb.ai/shweta/Sign%20Language%20Detection/runs/40m18wiv\" target=\"_blank\">https://app.wandb.ai/shweta/Sign%20Language%20Detection/runs/40m18wiv</a><br/>\n",
              "            "
            ],
            "text/plain": [
              "<IPython.core.display.HTML object>"
            ]
          },
          "metadata": {
            "tags": []
          }
        },
        {
          "output_type": "stream",
          "text": [
            "Epoch 1/20\n",
            "215/215 [==============================] - 8s 37ms/step - loss: 2.0995 - accuracy: 0.3565 - val_loss: 0.8293 - val_accuracy: 0.7322\n",
            "Epoch 2/20\n",
            "215/215 [==============================] - 6s 30ms/step - loss: 0.8520 - accuracy: 0.7197 - val_loss: 0.4020 - val_accuracy: 0.8497\n",
            "Epoch 3/20\n",
            "215/215 [==============================] - 6s 30ms/step - loss: 0.4533 - accuracy: 0.8441 - val_loss: 0.1931 - val_accuracy: 0.9340\n",
            "Epoch 4/20\n",
            "215/215 [==============================] - 7s 30ms/step - loss: 0.2701 - accuracy: 0.9097 - val_loss: 0.1363 - val_accuracy: 0.9545\n",
            "Epoch 5/20\n",
            "215/215 [==============================] - 6s 30ms/step - loss: 0.1802 - accuracy: 0.9391 - val_loss: 0.0666 - val_accuracy: 0.9801\n",
            "Epoch 6/20\n",
            "215/215 [==============================] - 7s 30ms/step - loss: 0.1307 - accuracy: 0.9576 - val_loss: 0.0335 - val_accuracy: 0.9923\n",
            "Epoch 7/20\n",
            "215/215 [==============================] - 7s 30ms/step - loss: 0.0908 - accuracy: 0.9700 - val_loss: 0.0282 - val_accuracy: 0.9914\n",
            "Epoch 8/20\n",
            "215/215 [==============================] - 6s 30ms/step - loss: 0.0755 - accuracy: 0.9753 - val_loss: 0.0256 - val_accuracy: 0.9914\n",
            "Epoch 9/20\n",
            "215/215 [==============================] - 6s 30ms/step - loss: 0.0603 - accuracy: 0.9801 - val_loss: 0.0315 - val_accuracy: 0.9912\n",
            "Epoch 10/20\n",
            "215/215 [==============================] - 6s 30ms/step - loss: 0.0542 - accuracy: 0.9818 - val_loss: 0.0060 - val_accuracy: 0.9994\n",
            "Epoch 11/20\n",
            "215/215 [==============================] - 7s 30ms/step - loss: 0.0450 - accuracy: 0.9852 - val_loss: 0.0097 - val_accuracy: 0.9980\n",
            "Epoch 12/20\n",
            "215/215 [==============================] - 6s 30ms/step - loss: 0.0411 - accuracy: 0.9869 - val_loss: 0.0232 - val_accuracy: 0.9937\n",
            "Epoch 13/20\n",
            "215/215 [==============================] - 6s 30ms/step - loss: 0.0361 - accuracy: 0.9889 - val_loss: 0.0042 - val_accuracy: 0.9992\n",
            "Epoch 14/20\n",
            "215/215 [==============================] - 7s 31ms/step - loss: 0.0296 - accuracy: 0.9903 - val_loss: 0.0081 - val_accuracy: 0.9955\n",
            "Epoch 15/20\n",
            "215/215 [==============================] - 7s 33ms/step - loss: 0.0277 - accuracy: 0.9907 - val_loss: 0.0217 - val_accuracy: 0.9927\n",
            "Epoch 16/20\n",
            "215/215 [==============================] - 7s 34ms/step - loss: 0.0279 - accuracy: 0.9908 - val_loss: 0.0050 - val_accuracy: 0.9989\n",
            "Epoch 17/20\n",
            "215/215 [==============================] - 7s 31ms/step - loss: 0.0241 - accuracy: 0.9926 - val_loss: 0.0020 - val_accuracy: 0.9996\n",
            "Epoch 18/20\n",
            "215/215 [==============================] - 7s 31ms/step - loss: 0.0252 - accuracy: 0.9920 - val_loss: 0.0048 - val_accuracy: 0.9986\n",
            "Epoch 19/20\n",
            "215/215 [==============================] - 7s 31ms/step - loss: 0.0234 - accuracy: 0.9925 - val_loss: 0.0018 - val_accuracy: 0.9997\n",
            "Epoch 20/20\n",
            "215/215 [==============================] - 7s 31ms/step - loss: 0.0206 - accuracy: 0.9929 - val_loss: 0.0011 - val_accuracy: 1.0000\n",
            "wandb: Agent Finished Run: 40m18wiv \n",
            "\n",
            "wandb: Agent Starting Run: 3k1p9pxg with config:\n",
            "\tActivation_Function: Swish\n",
            "\tlearning_rate: 0.01\n",
            "\toptimizer: adam\n",
            "wandb: Agent Started Run: 3k1p9pxg\n"
          ],
          "name": "stdout"
        },
        {
          "output_type": "display_data",
          "data": {
            "text/html": [
              "\n",
              "                Logging results to <a href=\"https://wandb.com\" target=\"_blank\">Weights & Biases</a> <a href=\"https://docs.wandb.com/integrations/jupyter.html\" target=\"_blank\">(Documentation)</a>.<br/>\n",
              "                Project page: <a href=\"https://app.wandb.ai/shweta/Sign%20Language%20Detection\" target=\"_blank\">https://app.wandb.ai/shweta/Sign%20Language%20Detection</a><br/>\n",
              "                Sweep page: <a href=\"https://app.wandb.ai/shweta/Sign%20Language%20Detection/sweeps/tql5j8lb\" target=\"_blank\">https://app.wandb.ai/shweta/Sign%20Language%20Detection/sweeps/tql5j8lb</a><br/>\n",
              "Run page: <a href=\"https://app.wandb.ai/shweta/Sign%20Language%20Detection/runs/3k1p9pxg\" target=\"_blank\">https://app.wandb.ai/shweta/Sign%20Language%20Detection/runs/3k1p9pxg</a><br/>\n",
              "            "
            ],
            "text/plain": [
              "<IPython.core.display.HTML object>"
            ]
          },
          "metadata": {
            "tags": []
          }
        },
        {
          "output_type": "stream",
          "text": [
            "Epoch 1/20\n",
            "215/215 [==============================] - 8s 39ms/step - loss: 2.0530 - accuracy: 0.3713 - val_loss: 0.7661 - val_accuracy: 0.7762\n",
            "Epoch 2/20\n",
            "215/215 [==============================] - 7s 32ms/step - loss: 0.7220 - accuracy: 0.7590 - val_loss: 0.3257 - val_accuracy: 0.8928\n",
            "Epoch 3/20\n",
            "215/215 [==============================] - 7s 31ms/step - loss: 0.3890 - accuracy: 0.8683 - val_loss: 0.2207 - val_accuracy: 0.9283\n",
            "Epoch 4/20\n",
            "215/215 [==============================] - 7s 31ms/step - loss: 0.2417 - accuracy: 0.9198 - val_loss: 0.1074 - val_accuracy: 0.9653\n",
            "Epoch 5/20\n",
            "215/215 [==============================] - 7s 31ms/step - loss: 0.1732 - accuracy: 0.9426 - val_loss: 0.0699 - val_accuracy: 0.9795\n",
            "Epoch 6/20\n",
            "215/215 [==============================] - 7s 31ms/step - loss: 0.1271 - accuracy: 0.9573 - val_loss: 0.0442 - val_accuracy: 0.9849\n",
            "Epoch 7/20\n",
            "215/215 [==============================] - 7s 31ms/step - loss: 0.0992 - accuracy: 0.9673 - val_loss: 0.0432 - val_accuracy: 0.9870\n",
            "Epoch 8/20\n",
            "215/215 [==============================] - 7s 31ms/step - loss: 0.0841 - accuracy: 0.9725 - val_loss: 0.0195 - val_accuracy: 0.9953\n",
            "Epoch 9/20\n",
            "215/215 [==============================] - 7s 31ms/step - loss: 0.0737 - accuracy: 0.9746 - val_loss: 0.0400 - val_accuracy: 0.9865\n",
            "Epoch 10/20\n",
            "215/215 [==============================] - 7s 30ms/step - loss: 0.0632 - accuracy: 0.9803 - val_loss: 0.0289 - val_accuracy: 0.9909\n",
            "Epoch 11/20\n",
            "215/215 [==============================] - 7s 31ms/step - loss: 0.0556 - accuracy: 0.9803 - val_loss: 0.0503 - val_accuracy: 0.9861\n",
            "Epoch 12/20\n",
            "215/215 [==============================] - 7s 30ms/step - loss: 0.0533 - accuracy: 0.9826 - val_loss: 0.0362 - val_accuracy: 0.9897\n",
            "Epoch 13/20\n",
            "215/215 [==============================] - 7s 31ms/step - loss: 0.0433 - accuracy: 0.9857 - val_loss: 0.0192 - val_accuracy: 0.9953\n",
            "Epoch 14/20\n",
            "215/215 [==============================] - 7s 31ms/step - loss: 0.0437 - accuracy: 0.9857 - val_loss: 0.0172 - val_accuracy: 0.9954\n",
            "Epoch 15/20\n",
            "215/215 [==============================] - 7s 30ms/step - loss: 0.0382 - accuracy: 0.9871 - val_loss: 0.0259 - val_accuracy: 0.9918\n",
            "Epoch 16/20\n",
            "215/215 [==============================] - 7s 30ms/step - loss: 0.0313 - accuracy: 0.9901 - val_loss: 0.0195 - val_accuracy: 0.9934\n",
            "Epoch 17/20\n",
            "215/215 [==============================] - 7s 31ms/step - loss: 0.0316 - accuracy: 0.9898 - val_loss: 0.0168 - val_accuracy: 0.9943\n",
            "Epoch 18/20\n",
            "215/215 [==============================] - 7s 31ms/step - loss: 0.0314 - accuracy: 0.9893 - val_loss: 0.0081 - val_accuracy: 0.9960\n",
            "Epoch 19/20\n",
            "215/215 [==============================] - 7s 31ms/step - loss: 0.0315 - accuracy: 0.9901 - val_loss: 0.0134 - val_accuracy: 0.9937\n",
            "Epoch 20/20\n",
            "215/215 [==============================] - 7s 31ms/step - loss: 0.0278 - accuracy: 0.9913 - val_loss: 0.0100 - val_accuracy: 0.9962\n",
            "wandb: Agent Finished Run: 3k1p9pxg \n",
            "\n",
            "wandb: Agent Starting Run: d8b2rtuu with config:\n",
            "\tActivation_Function: Swish\n",
            "\tlearning_rate: 0.01\n",
            "\toptimizer: rmsprop\n",
            "wandb: Agent Started Run: d8b2rtuu\n"
          ],
          "name": "stdout"
        },
        {
          "output_type": "display_data",
          "data": {
            "text/html": [
              "\n",
              "                Logging results to <a href=\"https://wandb.com\" target=\"_blank\">Weights & Biases</a> <a href=\"https://docs.wandb.com/integrations/jupyter.html\" target=\"_blank\">(Documentation)</a>.<br/>\n",
              "                Project page: <a href=\"https://app.wandb.ai/shweta/Sign%20Language%20Detection\" target=\"_blank\">https://app.wandb.ai/shweta/Sign%20Language%20Detection</a><br/>\n",
              "                Sweep page: <a href=\"https://app.wandb.ai/shweta/Sign%20Language%20Detection/sweeps/tql5j8lb\" target=\"_blank\">https://app.wandb.ai/shweta/Sign%20Language%20Detection/sweeps/tql5j8lb</a><br/>\n",
              "Run page: <a href=\"https://app.wandb.ai/shweta/Sign%20Language%20Detection/runs/d8b2rtuu\" target=\"_blank\">https://app.wandb.ai/shweta/Sign%20Language%20Detection/runs/d8b2rtuu</a><br/>\n",
              "            "
            ],
            "text/plain": [
              "<IPython.core.display.HTML object>"
            ]
          },
          "metadata": {
            "tags": []
          }
        },
        {
          "output_type": "stream",
          "text": [
            "Epoch 1/20\n",
            "215/215 [==============================] - 8s 38ms/step - loss: 2.1417 - accuracy: 0.3472 - val_loss: 0.8631 - val_accuracy: 0.7197\n",
            "Epoch 2/20\n",
            "215/215 [==============================] - 7s 31ms/step - loss: 0.8620 - accuracy: 0.7133 - val_loss: 0.4374 - val_accuracy: 0.8412\n",
            "Epoch 3/20\n",
            "215/215 [==============================] - 7s 31ms/step - loss: 0.4563 - accuracy: 0.8469 - val_loss: 0.2557 - val_accuracy: 0.9109\n",
            "Epoch 4/20\n",
            "215/215 [==============================] - 7s 31ms/step - loss: 0.2694 - accuracy: 0.9095 - val_loss: 0.1315 - val_accuracy: 0.9543\n",
            "Epoch 5/20\n",
            "215/215 [==============================] - 7s 31ms/step - loss: 0.1791 - accuracy: 0.9398 - val_loss: 0.0839 - val_accuracy: 0.9741\n",
            "Epoch 6/20\n",
            "215/215 [==============================] - 7s 31ms/step - loss: 0.1273 - accuracy: 0.9573 - val_loss: 0.0620 - val_accuracy: 0.9861\n",
            "Epoch 7/20\n",
            "215/215 [==============================] - 7s 31ms/step - loss: 0.1002 - accuracy: 0.9664 - val_loss: 0.0392 - val_accuracy: 0.9904\n",
            "Epoch 8/20\n",
            "215/215 [==============================] - 7s 31ms/step - loss: 0.0773 - accuracy: 0.9740 - val_loss: 0.0407 - val_accuracy: 0.9865\n",
            "Epoch 9/20\n",
            "215/215 [==============================] - 7s 31ms/step - loss: 0.0624 - accuracy: 0.9805 - val_loss: 0.0304 - val_accuracy: 0.9912\n",
            "Epoch 10/20\n",
            "215/215 [==============================] - 7s 31ms/step - loss: 0.0517 - accuracy: 0.9827 - val_loss: 0.0350 - val_accuracy: 0.9881\n",
            "Epoch 11/20\n",
            "215/215 [==============================] - 7s 31ms/step - loss: 0.0475 - accuracy: 0.9848 - val_loss: 0.0286 - val_accuracy: 0.9936\n",
            "Epoch 12/20\n",
            "215/215 [==============================] - 7s 31ms/step - loss: 0.0403 - accuracy: 0.9870 - val_loss: 0.0116 - val_accuracy: 0.9958\n",
            "Epoch 13/20\n",
            "215/215 [==============================] - 7s 31ms/step - loss: 0.0365 - accuracy: 0.9887 - val_loss: 0.0132 - val_accuracy: 0.9951\n",
            "Epoch 14/20\n",
            "215/215 [==============================] - 7s 31ms/step - loss: 0.0323 - accuracy: 0.9897 - val_loss: 0.0110 - val_accuracy: 0.9974\n",
            "Epoch 15/20\n",
            "215/215 [==============================] - 7s 31ms/step - loss: 0.0299 - accuracy: 0.9900 - val_loss: 0.0151 - val_accuracy: 0.9972\n",
            "Epoch 16/20\n",
            "215/215 [==============================] - 7s 31ms/step - loss: 0.0249 - accuracy: 0.9917 - val_loss: 0.0038 - val_accuracy: 0.9987\n",
            "Epoch 17/20\n",
            "215/215 [==============================] - 7s 31ms/step - loss: 0.0257 - accuracy: 0.9918 - val_loss: 0.0261 - val_accuracy: 0.9948\n",
            "Epoch 18/20\n",
            "215/215 [==============================] - 7s 31ms/step - loss: 0.0224 - accuracy: 0.9925 - val_loss: 0.0057 - val_accuracy: 0.9979\n",
            "Epoch 19/20\n",
            "215/215 [==============================] - 7s 31ms/step - loss: 0.0206 - accuracy: 0.9931 - val_loss: 0.0098 - val_accuracy: 0.9974\n",
            "Epoch 20/20\n",
            "215/215 [==============================] - 7s 31ms/step - loss: 0.0229 - accuracy: 0.9926 - val_loss: 0.0230 - val_accuracy: 0.9954\n",
            "wandb: Agent Finished Run: d8b2rtuu \n",
            "\n",
            "wandb: Agent Starting Run: qzeczwa7 with config:\n",
            "\tActivation_Function: Swish\n",
            "\tlearning_rate: 0.001\n",
            "\toptimizer: adam\n",
            "wandb: Agent Started Run: qzeczwa7\n"
          ],
          "name": "stdout"
        },
        {
          "output_type": "display_data",
          "data": {
            "text/html": [
              "\n",
              "                Logging results to <a href=\"https://wandb.com\" target=\"_blank\">Weights & Biases</a> <a href=\"https://docs.wandb.com/integrations/jupyter.html\" target=\"_blank\">(Documentation)</a>.<br/>\n",
              "                Project page: <a href=\"https://app.wandb.ai/shweta/Sign%20Language%20Detection\" target=\"_blank\">https://app.wandb.ai/shweta/Sign%20Language%20Detection</a><br/>\n",
              "                Sweep page: <a href=\"https://app.wandb.ai/shweta/Sign%20Language%20Detection/sweeps/tql5j8lb\" target=\"_blank\">https://app.wandb.ai/shweta/Sign%20Language%20Detection/sweeps/tql5j8lb</a><br/>\n",
              "Run page: <a href=\"https://app.wandb.ai/shweta/Sign%20Language%20Detection/runs/qzeczwa7\" target=\"_blank\">https://app.wandb.ai/shweta/Sign%20Language%20Detection/runs/qzeczwa7</a><br/>\n",
              "            "
            ],
            "text/plain": [
              "<IPython.core.display.HTML object>"
            ]
          },
          "metadata": {
            "tags": []
          }
        },
        {
          "output_type": "stream",
          "text": [
            "Epoch 1/20\n",
            "215/215 [==============================] - 8s 39ms/step - loss: 2.1204 - accuracy: 0.3478 - val_loss: 0.8080 - val_accuracy: 0.7404\n",
            "Epoch 2/20\n",
            "215/215 [==============================] - 7s 32ms/step - loss: 0.7558 - accuracy: 0.7480 - val_loss: 0.3191 - val_accuracy: 0.8907\n",
            "Epoch 3/20\n",
            "215/215 [==============================] - 7s 31ms/step - loss: 0.4093 - accuracy: 0.8639 - val_loss: 0.2661 - val_accuracy: 0.9077\n",
            "Epoch 4/20\n",
            "215/215 [==============================] - 7s 32ms/step - loss: 0.2577 - accuracy: 0.9132 - val_loss: 0.1101 - val_accuracy: 0.9612\n",
            "Epoch 5/20\n",
            "215/215 [==============================] - 7s 30ms/step - loss: 0.1804 - accuracy: 0.9387 - val_loss: 0.0862 - val_accuracy: 0.9699\n",
            "Epoch 6/20\n",
            "215/215 [==============================] - 7s 31ms/step - loss: 0.1358 - accuracy: 0.9561 - val_loss: 0.0952 - val_accuracy: 0.9693\n",
            "Epoch 7/20\n",
            "215/215 [==============================] - 7s 31ms/step - loss: 0.0973 - accuracy: 0.9677 - val_loss: 0.0660 - val_accuracy: 0.9756\n",
            "Epoch 8/20\n",
            "215/215 [==============================] - 7s 32ms/step - loss: 0.0809 - accuracy: 0.9733 - val_loss: 0.0595 - val_accuracy: 0.9835\n",
            "Epoch 9/20\n",
            "215/215 [==============================] - 7s 31ms/step - loss: 0.0780 - accuracy: 0.9745 - val_loss: 0.0319 - val_accuracy: 0.9868\n",
            "Epoch 10/20\n",
            "215/215 [==============================] - 7s 31ms/step - loss: 0.0680 - accuracy: 0.9783 - val_loss: 0.0313 - val_accuracy: 0.9863\n",
            "Epoch 11/20\n",
            "215/215 [==============================] - 7s 31ms/step - loss: 0.0529 - accuracy: 0.9832 - val_loss: 0.0272 - val_accuracy: 0.9912\n",
            "Epoch 12/20\n",
            "215/215 [==============================] - 7s 31ms/step - loss: 0.0395 - accuracy: 0.9881 - val_loss: 0.0262 - val_accuracy: 0.9909\n",
            "Epoch 13/20\n",
            "215/215 [==============================] - 7s 31ms/step - loss: 0.0451 - accuracy: 0.9846 - val_loss: 0.0142 - val_accuracy: 0.9979\n",
            "Epoch 14/20\n",
            "215/215 [==============================] - 7s 31ms/step - loss: 0.0395 - accuracy: 0.9869 - val_loss: 0.0103 - val_accuracy: 0.9953\n",
            "Epoch 15/20\n",
            "215/215 [==============================] - 7s 31ms/step - loss: 0.0351 - accuracy: 0.9889 - val_loss: 0.0048 - val_accuracy: 1.0000\n",
            "Epoch 16/20\n",
            "215/215 [==============================] - 7s 31ms/step - loss: 0.0381 - accuracy: 0.9879 - val_loss: 0.0086 - val_accuracy: 0.9983\n",
            "Epoch 17/20\n",
            "215/215 [==============================] - 7s 30ms/step - loss: 0.0326 - accuracy: 0.9893 - val_loss: 0.0120 - val_accuracy: 0.9964\n",
            "Epoch 18/20\n",
            "215/215 [==============================] - 7s 31ms/step - loss: 0.0287 - accuracy: 0.9910 - val_loss: 0.0076 - val_accuracy: 0.9976\n",
            "Epoch 19/20\n",
            "215/215 [==============================] - 7s 31ms/step - loss: 0.0298 - accuracy: 0.9902 - val_loss: 0.0145 - val_accuracy: 0.9946\n",
            "Epoch 20/20\n",
            "215/215 [==============================] - 7s 31ms/step - loss: 0.0266 - accuracy: 0.9918 - val_loss: 0.0141 - val_accuracy: 0.9943\n",
            "wandb: Agent Finished Run: qzeczwa7 \n",
            "\n",
            "wandb: Agent Starting Run: fv5ye5xe with config:\n",
            "\tActivation_Function: Swish\n",
            "\tlearning_rate: 0.001\n",
            "\toptimizer: rmsprop\n",
            "wandb: Agent Started Run: fv5ye5xe\n"
          ],
          "name": "stdout"
        },
        {
          "output_type": "display_data",
          "data": {
            "text/html": [
              "\n",
              "                Logging results to <a href=\"https://wandb.com\" target=\"_blank\">Weights & Biases</a> <a href=\"https://docs.wandb.com/integrations/jupyter.html\" target=\"_blank\">(Documentation)</a>.<br/>\n",
              "                Project page: <a href=\"https://app.wandb.ai/shweta/Sign%20Language%20Detection\" target=\"_blank\">https://app.wandb.ai/shweta/Sign%20Language%20Detection</a><br/>\n",
              "                Sweep page: <a href=\"https://app.wandb.ai/shweta/Sign%20Language%20Detection/sweeps/tql5j8lb\" target=\"_blank\">https://app.wandb.ai/shweta/Sign%20Language%20Detection/sweeps/tql5j8lb</a><br/>\n",
              "Run page: <a href=\"https://app.wandb.ai/shweta/Sign%20Language%20Detection/runs/fv5ye5xe\" target=\"_blank\">https://app.wandb.ai/shweta/Sign%20Language%20Detection/runs/fv5ye5xe</a><br/>\n",
              "            "
            ],
            "text/plain": [
              "<IPython.core.display.HTML object>"
            ]
          },
          "metadata": {
            "tags": []
          }
        },
        {
          "output_type": "stream",
          "text": [
            "Epoch 1/20\n",
            "215/215 [==============================] - 8s 39ms/step - loss: 2.1319 - accuracy: 0.3503 - val_loss: 1.0548 - val_accuracy: 0.6530\n",
            "Epoch 2/20\n",
            "215/215 [==============================] - 7s 31ms/step - loss: 0.9010 - accuracy: 0.7030 - val_loss: 0.4101 - val_accuracy: 0.8639\n",
            "Epoch 3/20\n",
            "215/215 [==============================] - 7s 30ms/step - loss: 0.4834 - accuracy: 0.8360 - val_loss: 0.2499 - val_accuracy: 0.9154\n",
            "Epoch 4/20\n",
            "215/215 [==============================] - 6s 30ms/step - loss: 0.3005 - accuracy: 0.8985 - val_loss: 0.1837 - val_accuracy: 0.9396\n",
            "Epoch 5/20\n",
            "215/215 [==============================] - 7s 31ms/step - loss: 0.2010 - accuracy: 0.9326 - val_loss: 0.1168 - val_accuracy: 0.9656\n",
            "Epoch 6/20\n",
            "215/215 [==============================] - 7s 31ms/step - loss: 0.1479 - accuracy: 0.9509 - val_loss: 0.0860 - val_accuracy: 0.9748\n",
            "Epoch 7/20\n",
            "215/215 [==============================] - 7s 31ms/step - loss: 0.1102 - accuracy: 0.9631 - val_loss: 0.1610 - val_accuracy: 0.9469\n",
            "Epoch 8/20\n",
            "215/215 [==============================] - 7s 31ms/step - loss: 0.0894 - accuracy: 0.9698 - val_loss: 0.0518 - val_accuracy: 0.9847\n",
            "Epoch 9/20\n",
            "215/215 [==============================] - 7s 30ms/step - loss: 0.0727 - accuracy: 0.9755 - val_loss: 0.0439 - val_accuracy: 0.9915\n",
            "Epoch 10/20\n",
            "215/215 [==============================] - 7s 31ms/step - loss: 0.0641 - accuracy: 0.9780 - val_loss: 0.0475 - val_accuracy: 0.9916\n",
            "Epoch 11/20\n",
            "215/215 [==============================] - 7s 30ms/step - loss: 0.0538 - accuracy: 0.9808 - val_loss: 0.0538 - val_accuracy: 0.9863\n",
            "Epoch 12/20\n",
            "215/215 [==============================] - 7s 31ms/step - loss: 0.0470 - accuracy: 0.9851 - val_loss: 0.0648 - val_accuracy: 0.9891\n",
            "Epoch 13/20\n",
            "215/215 [==============================] - 7s 31ms/step - loss: 0.0434 - accuracy: 0.9865 - val_loss: 0.0261 - val_accuracy: 0.9908\n",
            "Epoch 14/20\n",
            "215/215 [==============================] - 7s 31ms/step - loss: 0.0415 - accuracy: 0.9874 - val_loss: 0.0379 - val_accuracy: 0.9939\n",
            "Epoch 15/20\n",
            "215/215 [==============================] - 7s 30ms/step - loss: 0.0330 - accuracy: 0.9891 - val_loss: 0.0578 - val_accuracy: 0.9890\n",
            "Epoch 16/20\n",
            "215/215 [==============================] - 7s 31ms/step - loss: 0.0332 - accuracy: 0.9893 - val_loss: 0.0966 - val_accuracy: 0.9707\n",
            "Epoch 17/20\n",
            "215/215 [==============================] - 7s 31ms/step - loss: 0.0321 - accuracy: 0.9893 - val_loss: 0.0407 - val_accuracy: 0.9887\n",
            "Epoch 18/20\n",
            "215/215 [==============================] - 7s 31ms/step - loss: 0.0237 - accuracy: 0.9928 - val_loss: 0.0240 - val_accuracy: 0.9932\n",
            "Epoch 19/20\n",
            "215/215 [==============================] - 6s 30ms/step - loss: 0.0250 - accuracy: 0.9913 - val_loss: 0.0327 - val_accuracy: 0.9936\n",
            "Epoch 20/20\n",
            "215/215 [==============================] - 7s 31ms/step - loss: 0.0232 - accuracy: 0.9925 - val_loss: 0.0408 - val_accuracy: 0.9941\n",
            "wandb: Agent Finished Run: fv5ye5xe \n",
            "\n",
            "wandb: Agent Starting Run: gzu1wpww with config:\n",
            "\tActivation_Function: Mish\n",
            "\tlearning_rate: 0.1\n",
            "\toptimizer: adam\n",
            "wandb: Agent Started Run: gzu1wpww\n"
          ],
          "name": "stdout"
        },
        {
          "output_type": "display_data",
          "data": {
            "text/html": [
              "\n",
              "                Logging results to <a href=\"https://wandb.com\" target=\"_blank\">Weights & Biases</a> <a href=\"https://docs.wandb.com/integrations/jupyter.html\" target=\"_blank\">(Documentation)</a>.<br/>\n",
              "                Project page: <a href=\"https://app.wandb.ai/shweta/Sign%20Language%20Detection\" target=\"_blank\">https://app.wandb.ai/shweta/Sign%20Language%20Detection</a><br/>\n",
              "                Sweep page: <a href=\"https://app.wandb.ai/shweta/Sign%20Language%20Detection/sweeps/tql5j8lb\" target=\"_blank\">https://app.wandb.ai/shweta/Sign%20Language%20Detection/sweeps/tql5j8lb</a><br/>\n",
              "Run page: <a href=\"https://app.wandb.ai/shweta/Sign%20Language%20Detection/runs/gzu1wpww\" target=\"_blank\">https://app.wandb.ai/shweta/Sign%20Language%20Detection/runs/gzu1wpww</a><br/>\n",
              "            "
            ],
            "text/plain": [
              "<IPython.core.display.HTML object>"
            ]
          },
          "metadata": {
            "tags": []
          }
        },
        {
          "output_type": "stream",
          "text": [
            "Epoch 1/20\n",
            "215/215 [==============================] - 8s 37ms/step - loss: 2.0711 - accuracy: 0.3681 - val_loss: 0.7252 - val_accuracy: 0.7676\n",
            "Epoch 2/20\n",
            "215/215 [==============================] - 7s 30ms/step - loss: 0.7088 - accuracy: 0.7653 - val_loss: 0.3194 - val_accuracy: 0.8938\n",
            "Epoch 3/20\n",
            "215/215 [==============================] - 6s 30ms/step - loss: 0.4018 - accuracy: 0.8652 - val_loss: 0.1749 - val_accuracy: 0.9409\n",
            "Epoch 4/20\n",
            "215/215 [==============================] - 7s 30ms/step - loss: 0.2525 - accuracy: 0.9152 - val_loss: 0.0861 - val_accuracy: 0.9795\n",
            "Epoch 5/20\n",
            "215/215 [==============================] - 6s 30ms/step - loss: 0.1859 - accuracy: 0.9370 - val_loss: 0.0932 - val_accuracy: 0.9749\n",
            "Epoch 6/20\n",
            "215/215 [==============================] - 7s 30ms/step - loss: 0.1382 - accuracy: 0.9547 - val_loss: 0.0631 - val_accuracy: 0.9837\n",
            "Epoch 7/20\n",
            "215/215 [==============================] - 6s 30ms/step - loss: 0.1062 - accuracy: 0.9642 - val_loss: 0.0543 - val_accuracy: 0.9866\n",
            "Epoch 8/20\n",
            "215/215 [==============================] - 6s 30ms/step - loss: 0.0903 - accuracy: 0.9696 - val_loss: 0.0348 - val_accuracy: 0.9902\n",
            "Epoch 9/20\n",
            "215/215 [==============================] - 6s 30ms/step - loss: 0.0721 - accuracy: 0.9765 - val_loss: 0.0396 - val_accuracy: 0.9944\n",
            "Epoch 10/20\n",
            "215/215 [==============================] - 6s 30ms/step - loss: 0.0646 - accuracy: 0.9781 - val_loss: 0.0340 - val_accuracy: 0.9914\n",
            "Epoch 11/20\n",
            "215/215 [==============================] - 7s 30ms/step - loss: 0.0557 - accuracy: 0.9814 - val_loss: 0.0274 - val_accuracy: 0.9925\n",
            "Epoch 12/20\n",
            "215/215 [==============================] - 7s 31ms/step - loss: 0.0483 - accuracy: 0.9840 - val_loss: 0.0274 - val_accuracy: 0.9930\n",
            "Epoch 13/20\n",
            "215/215 [==============================] - 7s 30ms/step - loss: 0.0496 - accuracy: 0.9832 - val_loss: 0.0254 - val_accuracy: 0.9933\n",
            "Epoch 14/20\n",
            "215/215 [==============================] - 6s 30ms/step - loss: 0.0422 - accuracy: 0.9860 - val_loss: 0.0280 - val_accuracy: 0.9941\n",
            "Epoch 15/20\n",
            "215/215 [==============================] - 6s 30ms/step - loss: 0.0440 - accuracy: 0.9853 - val_loss: 0.0292 - val_accuracy: 0.9934\n",
            "Epoch 16/20\n",
            "215/215 [==============================] - 6s 30ms/step - loss: 0.0355 - accuracy: 0.9882 - val_loss: 0.0281 - val_accuracy: 0.9932\n",
            "Epoch 17/20\n",
            "215/215 [==============================] - 6s 30ms/step - loss: 0.0366 - accuracy: 0.9886 - val_loss: 0.0188 - val_accuracy: 0.9968\n",
            "Epoch 18/20\n",
            "215/215 [==============================] - 6s 30ms/step - loss: 0.0288 - accuracy: 0.9905 - val_loss: 0.0164 - val_accuracy: 0.9930\n",
            "Epoch 19/20\n",
            "215/215 [==============================] - 7s 30ms/step - loss: 0.0295 - accuracy: 0.9906 - val_loss: 0.0163 - val_accuracy: 0.9974\n",
            "Epoch 20/20\n",
            "215/215 [==============================] - 7s 30ms/step - loss: 0.0318 - accuracy: 0.9897 - val_loss: 0.0128 - val_accuracy: 0.9968\n",
            "wandb: Agent Finished Run: gzu1wpww \n",
            "\n",
            "wandb: Agent Starting Run: uaq5xby5 with config:\n",
            "\tActivation_Function: Mish\n",
            "\tlearning_rate: 0.1\n",
            "\toptimizer: rmsprop\n",
            "wandb: Agent Started Run: uaq5xby5\n"
          ],
          "name": "stdout"
        },
        {
          "output_type": "display_data",
          "data": {
            "text/html": [
              "\n",
              "                Logging results to <a href=\"https://wandb.com\" target=\"_blank\">Weights & Biases</a> <a href=\"https://docs.wandb.com/integrations/jupyter.html\" target=\"_blank\">(Documentation)</a>.<br/>\n",
              "                Project page: <a href=\"https://app.wandb.ai/shweta/Sign%20Language%20Detection\" target=\"_blank\">https://app.wandb.ai/shweta/Sign%20Language%20Detection</a><br/>\n",
              "                Sweep page: <a href=\"https://app.wandb.ai/shweta/Sign%20Language%20Detection/sweeps/tql5j8lb\" target=\"_blank\">https://app.wandb.ai/shweta/Sign%20Language%20Detection/sweeps/tql5j8lb</a><br/>\n",
              "Run page: <a href=\"https://app.wandb.ai/shweta/Sign%20Language%20Detection/runs/uaq5xby5\" target=\"_blank\">https://app.wandb.ai/shweta/Sign%20Language%20Detection/runs/uaq5xby5</a><br/>\n",
              "            "
            ],
            "text/plain": [
              "<IPython.core.display.HTML object>"
            ]
          },
          "metadata": {
            "tags": []
          }
        },
        {
          "output_type": "stream",
          "text": [
            "Epoch 1/20\n",
            "215/215 [==============================] - 8s 37ms/step - loss: 2.0885 - accuracy: 0.3601 - val_loss: 0.7955 - val_accuracy: 0.7356\n",
            "Epoch 2/20\n",
            "215/215 [==============================] - 6s 30ms/step - loss: 0.8448 - accuracy: 0.7218 - val_loss: 0.3172 - val_accuracy: 0.8924\n",
            "Epoch 3/20\n",
            "215/215 [==============================] - 6s 30ms/step - loss: 0.4350 - accuracy: 0.8529 - val_loss: 0.2529 - val_accuracy: 0.9142\n",
            "Epoch 4/20\n",
            "215/215 [==============================] - 6s 30ms/step - loss: 0.2609 - accuracy: 0.9108 - val_loss: 0.1138 - val_accuracy: 0.9633\n",
            "Epoch 5/20\n",
            "215/215 [==============================] - 6s 30ms/step - loss: 0.1697 - accuracy: 0.9440 - val_loss: 0.0619 - val_accuracy: 0.9787\n",
            "Epoch 6/20\n",
            "215/215 [==============================] - 7s 31ms/step - loss: 0.1273 - accuracy: 0.9563 - val_loss: 0.0419 - val_accuracy: 0.9880\n",
            "Epoch 7/20\n",
            "215/215 [==============================] - 6s 30ms/step - loss: 0.0955 - accuracy: 0.9686 - val_loss: 0.0451 - val_accuracy: 0.9859\n",
            "Epoch 8/20\n",
            "215/215 [==============================] - 7s 30ms/step - loss: 0.0739 - accuracy: 0.9748 - val_loss: 0.0188 - val_accuracy: 0.9964\n",
            "Epoch 9/20\n",
            "215/215 [==============================] - 6s 30ms/step - loss: 0.0614 - accuracy: 0.9806 - val_loss: 0.0342 - val_accuracy: 0.9837\n",
            "Epoch 10/20\n",
            "215/215 [==============================] - 6s 30ms/step - loss: 0.0539 - accuracy: 0.9823 - val_loss: 0.0415 - val_accuracy: 0.9847\n",
            "Epoch 11/20\n",
            "215/215 [==============================] - 6s 29ms/step - loss: 0.0446 - accuracy: 0.9844 - val_loss: 0.0091 - val_accuracy: 0.9974\n",
            "Epoch 12/20\n",
            "215/215 [==============================] - 7s 31ms/step - loss: 0.0425 - accuracy: 0.9859 - val_loss: 0.0154 - val_accuracy: 0.9937\n",
            "Epoch 13/20\n",
            "215/215 [==============================] - 7s 31ms/step - loss: 0.0327 - accuracy: 0.9897 - val_loss: 0.0202 - val_accuracy: 0.9927\n",
            "Epoch 14/20\n",
            "215/215 [==============================] - 6s 30ms/step - loss: 0.0309 - accuracy: 0.9901 - val_loss: 0.0039 - val_accuracy: 0.9993\n",
            "Epoch 15/20\n",
            "215/215 [==============================] - 6s 29ms/step - loss: 0.0280 - accuracy: 0.9907 - val_loss: 0.0108 - val_accuracy: 0.9946\n",
            "Epoch 16/20\n",
            "215/215 [==============================] - 6s 30ms/step - loss: 0.0242 - accuracy: 0.9921 - val_loss: 0.0067 - val_accuracy: 0.9969\n",
            "Epoch 17/20\n",
            "215/215 [==============================] - 6s 30ms/step - loss: 0.0250 - accuracy: 0.9921 - val_loss: 0.0051 - val_accuracy: 0.9978\n",
            "Epoch 18/20\n",
            "215/215 [==============================] - 7s 30ms/step - loss: 0.0244 - accuracy: 0.9923 - val_loss: 0.0177 - val_accuracy: 0.9958\n",
            "Epoch 19/20\n",
            "215/215 [==============================] - 6s 30ms/step - loss: 0.0189 - accuracy: 0.9938 - val_loss: 0.0085 - val_accuracy: 0.9971\n",
            "Epoch 20/20\n",
            "215/215 [==============================] - 6s 30ms/step - loss: 0.0185 - accuracy: 0.9940 - val_loss: 0.0137 - val_accuracy: 0.9972\n",
            "wandb: Agent Finished Run: uaq5xby5 \n",
            "\n",
            "wandb: Agent Starting Run: 2klspjgy with config:\n",
            "\tActivation_Function: Mish\n",
            "\tlearning_rate: 0.01\n",
            "\toptimizer: adam\n",
            "wandb: Agent Started Run: 2klspjgy\n"
          ],
          "name": "stdout"
        },
        {
          "output_type": "display_data",
          "data": {
            "text/html": [
              "\n",
              "                Logging results to <a href=\"https://wandb.com\" target=\"_blank\">Weights & Biases</a> <a href=\"https://docs.wandb.com/integrations/jupyter.html\" target=\"_blank\">(Documentation)</a>.<br/>\n",
              "                Project page: <a href=\"https://app.wandb.ai/shweta/Sign%20Language%20Detection\" target=\"_blank\">https://app.wandb.ai/shweta/Sign%20Language%20Detection</a><br/>\n",
              "                Sweep page: <a href=\"https://app.wandb.ai/shweta/Sign%20Language%20Detection/sweeps/tql5j8lb\" target=\"_blank\">https://app.wandb.ai/shweta/Sign%20Language%20Detection/sweeps/tql5j8lb</a><br/>\n",
              "Run page: <a href=\"https://app.wandb.ai/shweta/Sign%20Language%20Detection/runs/2klspjgy\" target=\"_blank\">https://app.wandb.ai/shweta/Sign%20Language%20Detection/runs/2klspjgy</a><br/>\n",
              "            "
            ],
            "text/plain": [
              "<IPython.core.display.HTML object>"
            ]
          },
          "metadata": {
            "tags": []
          }
        },
        {
          "output_type": "stream",
          "text": [
            "Epoch 1/20\n",
            "215/215 [==============================] - 8s 37ms/step - loss: 2.1068 - accuracy: 0.3552 - val_loss: 0.7100 - val_accuracy: 0.7724\n",
            "Epoch 2/20\n",
            "215/215 [==============================] - 6s 30ms/step - loss: 0.7403 - accuracy: 0.7513 - val_loss: 0.2878 - val_accuracy: 0.9191\n",
            "Epoch 3/20\n",
            "215/215 [==============================] - 7s 30ms/step - loss: 0.3922 - accuracy: 0.8633 - val_loss: 0.1595 - val_accuracy: 0.9518\n",
            "Epoch 4/20\n",
            "215/215 [==============================] - 6s 30ms/step - loss: 0.2501 - accuracy: 0.9166 - val_loss: 0.1240 - val_accuracy: 0.9644\n",
            "Epoch 5/20\n",
            "215/215 [==============================] - 6s 30ms/step - loss: 0.1806 - accuracy: 0.9386 - val_loss: 0.0722 - val_accuracy: 0.9816\n",
            "Epoch 6/20\n",
            "215/215 [==============================] - 7s 30ms/step - loss: 0.1406 - accuracy: 0.9518 - val_loss: 0.0485 - val_accuracy: 0.9904\n",
            "Epoch 7/20\n",
            "215/215 [==============================] - 7s 30ms/step - loss: 0.1054 - accuracy: 0.9643 - val_loss: 0.0358 - val_accuracy: 0.9891\n",
            "Epoch 8/20\n",
            "215/215 [==============================] - 7s 30ms/step - loss: 0.0843 - accuracy: 0.9722 - val_loss: 0.0381 - val_accuracy: 0.9876\n",
            "Epoch 9/20\n",
            "215/215 [==============================] - 7s 31ms/step - loss: 0.0694 - accuracy: 0.9778 - val_loss: 0.0307 - val_accuracy: 0.9916\n",
            "Epoch 10/20\n",
            "215/215 [==============================] - 7s 30ms/step - loss: 0.0653 - accuracy: 0.9788 - val_loss: 0.0427 - val_accuracy: 0.9830\n",
            "Epoch 11/20\n",
            "215/215 [==============================] - 7s 31ms/step - loss: 0.0578 - accuracy: 0.9818 - val_loss: 0.0399 - val_accuracy: 0.9884\n",
            "Epoch 12/20\n",
            "215/215 [==============================] - 6s 30ms/step - loss: 0.0500 - accuracy: 0.9833 - val_loss: 0.0270 - val_accuracy: 0.9893\n",
            "Epoch 13/20\n",
            "215/215 [==============================] - 7s 31ms/step - loss: 0.0468 - accuracy: 0.9844 - val_loss: 0.0189 - val_accuracy: 0.9943\n",
            "Epoch 14/20\n",
            "215/215 [==============================] - 7s 31ms/step - loss: 0.0466 - accuracy: 0.9842 - val_loss: 0.0199 - val_accuracy: 0.9940\n",
            "Epoch 15/20\n",
            "215/215 [==============================] - 7s 31ms/step - loss: 0.0379 - accuracy: 0.9883 - val_loss: 0.0205 - val_accuracy: 0.9929\n",
            "Epoch 16/20\n",
            "215/215 [==============================] - 7s 31ms/step - loss: 0.0331 - accuracy: 0.9898 - val_loss: 0.0233 - val_accuracy: 0.9925\n",
            "Epoch 17/20\n",
            "215/215 [==============================] - 7s 31ms/step - loss: 0.0353 - accuracy: 0.9881 - val_loss: 0.0197 - val_accuracy: 0.9955\n",
            "Epoch 18/20\n",
            "215/215 [==============================] - 7s 31ms/step - loss: 0.0310 - accuracy: 0.9901 - val_loss: 0.0119 - val_accuracy: 0.9965\n",
            "Epoch 19/20\n",
            "215/215 [==============================] - 7s 31ms/step - loss: 0.0297 - accuracy: 0.9902 - val_loss: 0.0208 - val_accuracy: 0.9908\n",
            "Epoch 20/20\n",
            "215/215 [==============================] - 7s 30ms/step - loss: 0.0304 - accuracy: 0.9903 - val_loss: 0.0129 - val_accuracy: 0.9936\n",
            "wandb: Agent Finished Run: 2klspjgy \n",
            "\n",
            "wandb: Agent Starting Run: r0ik7y8k with config:\n",
            "\tActivation_Function: Mish\n",
            "\tlearning_rate: 0.01\n",
            "\toptimizer: rmsprop\n",
            "wandb: Agent Started Run: r0ik7y8k\n"
          ],
          "name": "stdout"
        },
        {
          "output_type": "display_data",
          "data": {
            "text/html": [
              "\n",
              "                Logging results to <a href=\"https://wandb.com\" target=\"_blank\">Weights & Biases</a> <a href=\"https://docs.wandb.com/integrations/jupyter.html\" target=\"_blank\">(Documentation)</a>.<br/>\n",
              "                Project page: <a href=\"https://app.wandb.ai/shweta/Sign%20Language%20Detection\" target=\"_blank\">https://app.wandb.ai/shweta/Sign%20Language%20Detection</a><br/>\n",
              "                Sweep page: <a href=\"https://app.wandb.ai/shweta/Sign%20Language%20Detection/sweeps/tql5j8lb\" target=\"_blank\">https://app.wandb.ai/shweta/Sign%20Language%20Detection/sweeps/tql5j8lb</a><br/>\n",
              "Run page: <a href=\"https://app.wandb.ai/shweta/Sign%20Language%20Detection/runs/r0ik7y8k\" target=\"_blank\">https://app.wandb.ai/shweta/Sign%20Language%20Detection/runs/r0ik7y8k</a><br/>\n",
              "            "
            ],
            "text/plain": [
              "<IPython.core.display.HTML object>"
            ]
          },
          "metadata": {
            "tags": []
          }
        },
        {
          "output_type": "stream",
          "text": [
            "Epoch 1/20\n",
            "215/215 [==============================] - 8s 37ms/step - loss: 2.1719 - accuracy: 0.3389 - val_loss: 0.9354 - val_accuracy: 0.6991\n",
            "Epoch 2/20\n",
            "215/215 [==============================] - 7s 31ms/step - loss: 0.8812 - accuracy: 0.7085 - val_loss: 0.3949 - val_accuracy: 0.8660\n",
            "Epoch 3/20\n",
            "215/215 [==============================] - 7s 31ms/step - loss: 0.4477 - accuracy: 0.8484 - val_loss: 0.2751 - val_accuracy: 0.8896\n",
            "Epoch 4/20\n",
            "215/215 [==============================] - 7s 31ms/step - loss: 0.2668 - accuracy: 0.9095 - val_loss: 0.1027 - val_accuracy: 0.9653\n",
            "Epoch 5/20\n",
            "215/215 [==============================] - 7s 31ms/step - loss: 0.1705 - accuracy: 0.9430 - val_loss: 0.0464 - val_accuracy: 0.9875\n",
            "Epoch 6/20\n",
            "215/215 [==============================] - 7s 31ms/step - loss: 0.1209 - accuracy: 0.9589 - val_loss: 0.0396 - val_accuracy: 0.9859\n",
            "Epoch 7/20\n",
            "215/215 [==============================] - 7s 31ms/step - loss: 0.0933 - accuracy: 0.9703 - val_loss: 0.1190 - val_accuracy: 0.9639\n",
            "Epoch 8/20\n",
            "215/215 [==============================] - 7s 30ms/step - loss: 0.0730 - accuracy: 0.9766 - val_loss: 0.0195 - val_accuracy: 0.9951\n",
            "Epoch 9/20\n",
            "215/215 [==============================] - 7s 31ms/step - loss: 0.0589 - accuracy: 0.9806 - val_loss: 0.0367 - val_accuracy: 0.9873\n",
            "Epoch 10/20\n",
            "215/215 [==============================] - 7s 32ms/step - loss: 0.0506 - accuracy: 0.9831 - val_loss: 0.0070 - val_accuracy: 0.9983\n",
            "Epoch 11/20\n",
            "215/215 [==============================] - 7s 32ms/step - loss: 0.0438 - accuracy: 0.9861 - val_loss: 0.0212 - val_accuracy: 0.9914\n",
            "Epoch 12/20\n",
            "215/215 [==============================] - 7s 31ms/step - loss: 0.0392 - accuracy: 0.9872 - val_loss: 0.0129 - val_accuracy: 0.9944\n",
            "Epoch 13/20\n",
            "215/215 [==============================] - 7s 31ms/step - loss: 0.0336 - accuracy: 0.9889 - val_loss: 0.0056 - val_accuracy: 0.9989\n",
            "Epoch 14/20\n",
            "215/215 [==============================] - 7s 31ms/step - loss: 0.0324 - accuracy: 0.9895 - val_loss: 0.0084 - val_accuracy: 0.9979\n",
            "Epoch 15/20\n",
            "215/215 [==============================] - 7s 30ms/step - loss: 0.0291 - accuracy: 0.9909 - val_loss: 0.0152 - val_accuracy: 0.9944\n",
            "Epoch 16/20\n",
            "215/215 [==============================] - 6s 30ms/step - loss: 0.0259 - accuracy: 0.9921 - val_loss: 0.0051 - val_accuracy: 0.9980\n",
            "Epoch 17/20\n",
            "215/215 [==============================] - 7s 30ms/step - loss: 0.0246 - accuracy: 0.9922 - val_loss: 0.0122 - val_accuracy: 0.9965\n",
            "Epoch 18/20\n",
            "215/215 [==============================] - 7s 31ms/step - loss: 0.0225 - accuracy: 0.9928 - val_loss: 0.0050 - val_accuracy: 0.9990\n",
            "Epoch 19/20\n",
            "215/215 [==============================] - 7s 31ms/step - loss: 0.0220 - accuracy: 0.9926 - val_loss: 0.0061 - val_accuracy: 0.9980\n",
            "Epoch 20/20\n",
            "215/215 [==============================] - 7s 31ms/step - loss: 0.0202 - accuracy: 0.9934 - val_loss: 0.0061 - val_accuracy: 0.9974\n",
            "wandb: Agent Finished Run: r0ik7y8k \n",
            "\n",
            "wandb: Agent Starting Run: radzu0ht with config:\n",
            "\tActivation_Function: Mish\n",
            "\tlearning_rate: 0.001\n",
            "\toptimizer: adam\n",
            "wandb: Agent Started Run: radzu0ht\n"
          ],
          "name": "stdout"
        },
        {
          "output_type": "display_data",
          "data": {
            "text/html": [
              "\n",
              "                Logging results to <a href=\"https://wandb.com\" target=\"_blank\">Weights & Biases</a> <a href=\"https://docs.wandb.com/integrations/jupyter.html\" target=\"_blank\">(Documentation)</a>.<br/>\n",
              "                Project page: <a href=\"https://app.wandb.ai/shweta/Sign%20Language%20Detection\" target=\"_blank\">https://app.wandb.ai/shweta/Sign%20Language%20Detection</a><br/>\n",
              "                Sweep page: <a href=\"https://app.wandb.ai/shweta/Sign%20Language%20Detection/sweeps/tql5j8lb\" target=\"_blank\">https://app.wandb.ai/shweta/Sign%20Language%20Detection/sweeps/tql5j8lb</a><br/>\n",
              "Run page: <a href=\"https://app.wandb.ai/shweta/Sign%20Language%20Detection/runs/radzu0ht\" target=\"_blank\">https://app.wandb.ai/shweta/Sign%20Language%20Detection/runs/radzu0ht</a><br/>\n",
              "            "
            ],
            "text/plain": [
              "<IPython.core.display.HTML object>"
            ]
          },
          "metadata": {
            "tags": []
          }
        },
        {
          "output_type": "stream",
          "text": [
            "Epoch 1/20\n",
            "215/215 [==============================] - 8s 39ms/step - loss: 2.0087 - accuracy: 0.3811 - val_loss: 0.6640 - val_accuracy: 0.7701\n",
            "Epoch 2/20\n",
            "215/215 [==============================] - 7s 31ms/step - loss: 0.6760 - accuracy: 0.7730 - val_loss: 0.3129 - val_accuracy: 0.8822\n",
            "Epoch 3/20\n",
            "215/215 [==============================] - 7s 31ms/step - loss: 0.3762 - accuracy: 0.8714 - val_loss: 0.2076 - val_accuracy: 0.9138\n",
            "Epoch 4/20\n",
            "215/215 [==============================] - 7s 31ms/step - loss: 0.2447 - accuracy: 0.9175 - val_loss: 0.1164 - val_accuracy: 0.9624\n",
            "Epoch 5/20\n",
            "215/215 [==============================] - 7s 31ms/step - loss: 0.1780 - accuracy: 0.9389 - val_loss: 0.1155 - val_accuracy: 0.9575\n",
            "Epoch 6/20\n",
            "215/215 [==============================] - 7s 31ms/step - loss: 0.1338 - accuracy: 0.9556 - val_loss: 0.0757 - val_accuracy: 0.9785\n",
            "Epoch 7/20\n",
            "215/215 [==============================] - 7s 31ms/step - loss: 0.0980 - accuracy: 0.9677 - val_loss: 0.0537 - val_accuracy: 0.9776\n",
            "Epoch 8/20\n",
            "215/215 [==============================] - 7s 31ms/step - loss: 0.0851 - accuracy: 0.9725 - val_loss: 0.0575 - val_accuracy: 0.9794\n",
            "Epoch 9/20\n",
            "215/215 [==============================] - 7s 32ms/step - loss: 0.0738 - accuracy: 0.9765 - val_loss: 0.0246 - val_accuracy: 0.9911\n",
            "Epoch 10/20\n",
            "215/215 [==============================] - 7s 31ms/step - loss: 0.0591 - accuracy: 0.9799 - val_loss: 0.0417 - val_accuracy: 0.9858\n",
            "Epoch 11/20\n",
            "215/215 [==============================] - 7s 31ms/step - loss: 0.0509 - accuracy: 0.9821 - val_loss: 0.0324 - val_accuracy: 0.9866\n",
            "Epoch 12/20\n",
            "215/215 [==============================] - 7s 31ms/step - loss: 0.0531 - accuracy: 0.9822 - val_loss: 0.0231 - val_accuracy: 0.9922\n",
            "Epoch 13/20\n",
            "215/215 [==============================] - 7s 31ms/step - loss: 0.0403 - accuracy: 0.9863 - val_loss: 0.0263 - val_accuracy: 0.9883\n",
            "Epoch 14/20\n",
            "215/215 [==============================] - 7s 31ms/step - loss: 0.0418 - accuracy: 0.9858 - val_loss: 0.0156 - val_accuracy: 0.9960\n",
            "Epoch 15/20\n",
            "215/215 [==============================] - 7s 31ms/step - loss: 0.0386 - accuracy: 0.9877 - val_loss: 0.0332 - val_accuracy: 0.9854\n",
            "Epoch 16/20\n",
            "215/215 [==============================] - 7s 31ms/step - loss: 0.0389 - accuracy: 0.9872 - val_loss: 0.0210 - val_accuracy: 0.9907\n",
            "Epoch 17/20\n",
            "215/215 [==============================] - 7s 32ms/step - loss: 0.0329 - accuracy: 0.9897 - val_loss: 0.0197 - val_accuracy: 0.9911\n",
            "Epoch 18/20\n",
            "215/215 [==============================] - 7s 31ms/step - loss: 0.0387 - accuracy: 0.9868 - val_loss: 0.0226 - val_accuracy: 0.9907\n",
            "Epoch 19/20\n",
            "215/215 [==============================] - 7s 32ms/step - loss: 0.0285 - accuracy: 0.9901 - val_loss: 0.0077 - val_accuracy: 0.9985\n",
            "Epoch 20/20\n",
            "215/215 [==============================] - 7s 32ms/step - loss: 0.0274 - accuracy: 0.9909 - val_loss: 0.0123 - val_accuracy: 0.9948\n",
            "wandb: Agent Finished Run: radzu0ht \n",
            "\n",
            "wandb: Agent Starting Run: y3eholqj with config:\n",
            "\tActivation_Function: Mish\n",
            "\tlearning_rate: 0.001\n",
            "\toptimizer: rmsprop\n",
            "wandb: Agent Started Run: y3eholqj\n"
          ],
          "name": "stdout"
        },
        {
          "output_type": "display_data",
          "data": {
            "text/html": [
              "\n",
              "                Logging results to <a href=\"https://wandb.com\" target=\"_blank\">Weights & Biases</a> <a href=\"https://docs.wandb.com/integrations/jupyter.html\" target=\"_blank\">(Documentation)</a>.<br/>\n",
              "                Project page: <a href=\"https://app.wandb.ai/shweta/Sign%20Language%20Detection\" target=\"_blank\">https://app.wandb.ai/shweta/Sign%20Language%20Detection</a><br/>\n",
              "                Sweep page: <a href=\"https://app.wandb.ai/shweta/Sign%20Language%20Detection/sweeps/tql5j8lb\" target=\"_blank\">https://app.wandb.ai/shweta/Sign%20Language%20Detection/sweeps/tql5j8lb</a><br/>\n",
              "Run page: <a href=\"https://app.wandb.ai/shweta/Sign%20Language%20Detection/runs/y3eholqj\" target=\"_blank\">https://app.wandb.ai/shweta/Sign%20Language%20Detection/runs/y3eholqj</a><br/>\n",
              "            "
            ],
            "text/plain": [
              "<IPython.core.display.HTML object>"
            ]
          },
          "metadata": {
            "tags": []
          }
        },
        {
          "output_type": "stream",
          "text": [
            "Epoch 1/20\n",
            "215/215 [==============================] - 8s 38ms/step - loss: 2.1230 - accuracy: 0.3473 - val_loss: 0.9167 - val_accuracy: 0.7170\n",
            "Epoch 2/20\n",
            "215/215 [==============================] - 7s 31ms/step - loss: 0.8461 - accuracy: 0.7209 - val_loss: 0.4052 - val_accuracy: 0.8643\n",
            "Epoch 3/20\n",
            "215/215 [==============================] - 7s 31ms/step - loss: 0.4451 - accuracy: 0.8476 - val_loss: 0.2410 - val_accuracy: 0.9152\n",
            "Epoch 4/20\n",
            "215/215 [==============================] - 7s 31ms/step - loss: 0.2625 - accuracy: 0.9113 - val_loss: 0.1900 - val_accuracy: 0.9314\n",
            "Epoch 5/20\n",
            "215/215 [==============================] - 7s 31ms/step - loss: 0.1711 - accuracy: 0.9439 - val_loss: 0.0888 - val_accuracy: 0.9686\n",
            "Epoch 6/20\n",
            "215/215 [==============================] - 7s 31ms/step - loss: 0.1253 - accuracy: 0.9572 - val_loss: 0.0715 - val_accuracy: 0.9767\n",
            "Epoch 7/20\n",
            "215/215 [==============================] - 7s 31ms/step - loss: 0.0931 - accuracy: 0.9678 - val_loss: 0.0369 - val_accuracy: 0.9875\n",
            "Epoch 8/20\n",
            "215/215 [==============================] - 7s 31ms/step - loss: 0.0762 - accuracy: 0.9749 - val_loss: 0.0392 - val_accuracy: 0.9877\n",
            "Epoch 9/20\n",
            "215/215 [==============================] - 7s 31ms/step - loss: 0.0606 - accuracy: 0.9794 - val_loss: 0.0273 - val_accuracy: 0.9925\n",
            "Epoch 10/20\n",
            "215/215 [==============================] - 7s 31ms/step - loss: 0.0525 - accuracy: 0.9827 - val_loss: 0.0411 - val_accuracy: 0.9905\n",
            "Epoch 11/20\n",
            "215/215 [==============================] - 7s 32ms/step - loss: 0.0451 - accuracy: 0.9843 - val_loss: 0.0159 - val_accuracy: 0.9944\n",
            "Epoch 12/20\n",
            "215/215 [==============================] - 7s 32ms/step - loss: 0.0394 - accuracy: 0.9872 - val_loss: 0.0148 - val_accuracy: 0.9964\n",
            "Epoch 13/20\n",
            "215/215 [==============================] - 7s 32ms/step - loss: 0.0331 - accuracy: 0.9887 - val_loss: 0.0254 - val_accuracy: 0.9912\n",
            "Epoch 14/20\n",
            "215/215 [==============================] - 7s 32ms/step - loss: 0.0342 - accuracy: 0.9891 - val_loss: 0.0918 - val_accuracy: 0.9767\n",
            "Epoch 15/20\n",
            "215/215 [==============================] - 7s 31ms/step - loss: 0.0296 - accuracy: 0.9901 - val_loss: 0.0137 - val_accuracy: 0.9971\n",
            "Epoch 16/20\n",
            "215/215 [==============================] - 7s 31ms/step - loss: 0.0291 - accuracy: 0.9909 - val_loss: 0.0197 - val_accuracy: 0.9950\n",
            "Epoch 17/20\n",
            "215/215 [==============================] - 7s 31ms/step - loss: 0.0224 - accuracy: 0.9924 - val_loss: 0.0087 - val_accuracy: 0.9974\n",
            "Epoch 18/20\n",
            "215/215 [==============================] - 7s 30ms/step - loss: 0.0229 - accuracy: 0.9928 - val_loss: 0.0098 - val_accuracy: 0.9964\n",
            "Epoch 19/20\n",
            "215/215 [==============================] - 7s 31ms/step - loss: 0.0205 - accuracy: 0.9928 - val_loss: 0.0080 - val_accuracy: 0.9971\n",
            "Epoch 20/20\n",
            "215/215 [==============================] - 7s 31ms/step - loss: 0.0196 - accuracy: 0.9936 - val_loss: 0.0078 - val_accuracy: 0.9974\n",
            "wandb: Agent Finished Run: y3eholqj \n",
            "\n"
          ],
          "name": "stdout"
        }
      ]
    },
    {
      "cell_type": "markdown",
      "metadata": {
        "id": "2em7t7ZdWm3J"
      },
      "source": [
        "# **Training The Model**"
      ]
    },
    {
      "cell_type": "code",
      "metadata": {
        "id": "YMrOZmycWh4e"
      },
      "source": [
        "datagen = ImageDataGenerator(\n",
        "        featurewise_center=False,  # set input mean to 0 over the dataset\n",
        "        samplewise_center=False,  # set each sample mean to 0\n",
        "        featurewise_std_normalization=False,  # divide inputs by std of the dataset\n",
        "        samplewise_std_normalization=False,  # divide each input by its std\n",
        "        zca_whitening=False,  # apply ZCA whitening\n",
        "        rotation_range=10,  # randomly rotate images in the range (degrees, 0 to 180)\n",
        "        zoom_range = 0.1, # Randomly zoom image\n",
        "        width_shift_range=0.1,  # randomly shift images horizontally (fraction of total width)\n",
        "        height_shift_range=0.1,  # randomly shift images vertically (fraction of total height)\n",
        "        horizontal_flip=False,  # randomly flip images\n",
        "        vertical_flip=False)  # randomly flip images\n",
        "\n",
        "\n",
        "datagen.fit(x_train)"
      ],
      "execution_count": null,
      "outputs": []
    },
    {
      "cell_type": "code",
      "metadata": {
        "id": "s4ySRLoWWh1m",
        "colab": {
          "base_uri": "https://localhost:8080/",
          "height": 487
        },
        "outputId": "40751358-25fb-4585-e908-eccb9123afa4"
      },
      "source": [
        "model = Sequential()\n",
        "model.add(Conv2D(32 , (3,3) , strides = 1 , padding = 'same' , activation='Mish' , input_shape = (28,28,1)))\n",
        "model.add(MaxPool2D((2,2) , strides = 2 , padding = 'same'))\n",
        "model.add(Conv2D(64 , (3,3) , strides = 1 , padding = 'same' , activation='Mish'))\n",
        "model.add(MaxPool2D((2,2) , strides = 2 , padding = 'same'))\n",
        "model.add(Conv2D(128 , (3,3) , strides = 1 , padding = 'same' , activation='Mish'))\n",
        "model.add(MaxPool2D((2,2) , strides = 2 , padding = 'same'))\n",
        "model.add(Flatten())\n",
        "model.add(Dense(units = 512 ,  activation='Mish'))\n",
        "model.add(Dropout(0.2))\n",
        "model.add(Dense(units = 24 , activation = 'softmax'))\n",
        "\n",
        "\n",
        "\n",
        "model.summary()"
      ],
      "execution_count": null,
      "outputs": [
        {
          "output_type": "stream",
          "text": [
            "Model: \"sequential_7\"\n",
            "_________________________________________________________________\n",
            "Layer (type)                 Output Shape              Param #   \n",
            "=================================================================\n",
            "conv2d_19 (Conv2D)           (None, 28, 28, 32)        320       \n",
            "_________________________________________________________________\n",
            "max_pooling2d_19 (MaxPooling (None, 14, 14, 32)        0         \n",
            "_________________________________________________________________\n",
            "conv2d_20 (Conv2D)           (None, 14, 14, 64)        18496     \n",
            "_________________________________________________________________\n",
            "max_pooling2d_20 (MaxPooling (None, 7, 7, 64)          0         \n",
            "_________________________________________________________________\n",
            "conv2d_21 (Conv2D)           (None, 7, 7, 128)         73856     \n",
            "_________________________________________________________________\n",
            "max_pooling2d_21 (MaxPooling (None, 4, 4, 128)         0         \n",
            "_________________________________________________________________\n",
            "flatten_7 (Flatten)          (None, 2048)              0         \n",
            "_________________________________________________________________\n",
            "dense_13 (Dense)             (None, 512)               1049088   \n",
            "_________________________________________________________________\n",
            "dropout_7 (Dropout)          (None, 512)               0         \n",
            "_________________________________________________________________\n",
            "dense_14 (Dense)             (None, 24)                12312     \n",
            "=================================================================\n",
            "Total params: 1,154,072\n",
            "Trainable params: 1,154,072\n",
            "Non-trainable params: 0\n",
            "_________________________________________________________________\n"
          ],
          "name": "stdout"
        }
      ]
    },
    {
      "cell_type": "code",
      "metadata": {
        "id": "4F8b9zBCWhx3"
      },
      "source": [
        "\n",
        "\n",
        "\n",
        "from keras.optimizers import RMSprop\n",
        "\n",
        "rmsprop=RMSprop(learning_rate=0.1)\n",
        "\n",
        "model.compile(optimizer = rmsprop , loss = 'categorical_crossentropy' , metrics = ['accuracy'])\n",
        "\n",
        "\n"
      ],
      "execution_count": null,
      "outputs": []
    },
    {
      "cell_type": "code",
      "metadata": {
        "id": "Mhzm5hFyjGTm",
        "colab": {
          "base_uri": "https://localhost:8080/",
          "height": 84
        },
        "outputId": "52c3b83c-781c-4f0b-dd50-4292f95c0f92"
      },
      "source": [
        "import wandb\n",
        "wandb.init(project='Sign Language Detection', id='1')"
      ],
      "execution_count": null,
      "outputs": [
        {
          "output_type": "display_data",
          "data": {
            "text/html": [
              "\n",
              "                Logging results to <a href=\"https://wandb.com\" target=\"_blank\">Weights & Biases</a> <a href=\"https://docs.wandb.com/integrations/jupyter.html\" target=\"_blank\">(Documentation)</a>.<br/>\n",
              "                Project page: <a href=\"https://app.wandb.ai/shweta/Sign%20Language%20Detection\" target=\"_blank\">https://app.wandb.ai/shweta/Sign%20Language%20Detection</a><br/>\n",
              "                Run page: <a href=\"https://app.wandb.ai/shweta/Sign%20Language%20Detection/runs/1\" target=\"_blank\">https://app.wandb.ai/shweta/Sign%20Language%20Detection/runs/1</a><br/>\n",
              "            "
            ],
            "text/plain": [
              "<IPython.core.display.HTML object>"
            ]
          },
          "metadata": {
            "tags": []
          }
        },
        {
          "output_type": "execute_result",
          "data": {
            "text/plain": [
              "W&B Run: https://app.wandb.ai/shweta/Sign%20Language%20Detection/runs/1"
            ]
          },
          "metadata": {
            "tags": []
          },
          "execution_count": 133
        }
      ]
    },
    {
      "cell_type": "code",
      "metadata": {
        "id": "MHRKGtsWjAIs"
      },
      "source": [
        "history = model.fit(datagen.flow(x_train,y_train, batch_size = 128) ,epochs = 40 , validation_data = (x_test, y_test),callbacks=[wandb.keras.WandbCallback( validation_data=(x_test, y_test))])"
      ],
      "execution_count": null,
      "outputs": []
    },
    {
      "cell_type": "markdown",
      "metadata": {
        "id": "-XLqKXdCWuaz"
      },
      "source": [
        "# **Evaluating Model**"
      ]
    },
    {
      "cell_type": "code",
      "metadata": {
        "id": "mN1aL9xyaG_l"
      },
      "source": [
        "from sklearn.metrics import accuracy_score\n",
        "from sklearn.metrics import precision_score\n",
        "from sklearn.metrics import recall_score\n",
        "from sklearn.metrics import f1_score\n",
        "from sklearn.metrics import cohen_kappa_score\n",
        "from sklearn.metrics import roc_auc_score\n",
        "from sklearn.metrics import multilabel_confusion_matrix"
      ],
      "execution_count": null,
      "outputs": []
    },
    {
      "cell_type": "code",
      "metadata": {
        "id": "J3EgCeHZaxmk"
      },
      "source": [
        "yhat_classes = model.predict_classes(x_test, verbose=0)"
      ],
      "execution_count": null,
      "outputs": []
    },
    {
      "cell_type": "code",
      "metadata": {
        "id": "AnuVtUjzpcyI"
      },
      "source": [
        "y=[]\n",
        "for x in y_test:\n",
        "  y.append(x.argmax())"
      ],
      "execution_count": null,
      "outputs": []
    },
    {
      "cell_type": "code",
      "metadata": {
        "id": "_uM3sfhkqZFd",
        "colab": {
          "base_uri": "https://localhost:8080/",
          "height": 34
        },
        "outputId": "e4b0d6f7-2e87-43af-cb59-70a3db4c3aa6"
      },
      "source": [
        "len(y)"
      ],
      "execution_count": null,
      "outputs": [
        {
          "output_type": "execute_result",
          "data": {
            "text/plain": [
              "7172"
            ]
          },
          "metadata": {
            "tags": []
          },
          "execution_count": 110
        }
      ]
    },
    {
      "cell_type": "code",
      "metadata": {
        "id": "u4VRZFSHaHzu",
        "colab": {
          "base_uri": "https://localhost:8080/",
          "height": 34
        },
        "outputId": "218fecd4-7805-4db3-ceb0-74f36972795e"
      },
      "source": [
        "accuracy = accuracy_score(y, yhat_classes)\n",
        "print('Accuracy: %f' % accuracy)"
      ],
      "execution_count": null,
      "outputs": [
        {
          "output_type": "stream",
          "text": [
            "Accuracy: 0.997351\n"
          ],
          "name": "stdout"
        }
      ]
    },
    {
      "cell_type": "code",
      "metadata": {
        "id": "eA68JBcPblU0",
        "colab": {
          "base_uri": "https://localhost:8080/",
          "height": 34
        },
        "outputId": "f1cba5c6-97a6-4556-cc4f-8b1c91fddabc"
      },
      "source": [
        "precision = precision_score(y, yhat_classes,average='macro')\n",
        "print('Precision: %f' % precision)"
      ],
      "execution_count": null,
      "outputs": [
        {
          "output_type": "stream",
          "text": [
            "Precision: 0.998469\n"
          ],
          "name": "stdout"
        }
      ]
    },
    {
      "cell_type": "code",
      "metadata": {
        "id": "9MlYl0VpbuBK",
        "colab": {
          "base_uri": "https://localhost:8080/",
          "height": 34
        },
        "outputId": "57414072-452c-4d9d-beb1-b9944e8b73f5"
      },
      "source": [
        "recall = recall_score(y, yhat_classes,average='macro')\n",
        "print('Recall: %f' % recall)"
      ],
      "execution_count": null,
      "outputs": [
        {
          "output_type": "stream",
          "text": [
            "Recall: 0.997725\n"
          ],
          "name": "stdout"
        }
      ]
    },
    {
      "cell_type": "code",
      "metadata": {
        "id": "DI4L0FRzbynJ",
        "colab": {
          "base_uri": "https://localhost:8080/",
          "height": 34
        },
        "outputId": "4daaaf0f-48c5-4d8b-8075-4194329bb66b"
      },
      "source": [
        "f1 = f1_score(y, yhat_classes,average='macro')\n",
        "print('F1 score: %f' % f1)"
      ],
      "execution_count": null,
      "outputs": [
        {
          "output_type": "stream",
          "text": [
            "F1 score: 0.998051\n"
          ],
          "name": "stdout"
        }
      ]
    },
    {
      "cell_type": "code",
      "metadata": {
        "id": "joM5wNnEb1l9",
        "colab": {
          "base_uri": "https://localhost:8080/",
          "height": 1000
        },
        "outputId": "914f2c83-f1d6-40e3-82c2-e0043098a950"
      },
      "source": [
        "import numpy as np\n",
        "y1=np.asarray(y)\n",
        "matrix = multilabel_confusion_matrix(y1, yhat_classes)\n",
        "print(matrix)"
      ],
      "execution_count": null,
      "outputs": [
        {
          "output_type": "stream",
          "text": [
            "[[[6841    0]\n",
            "  [   0  331]]\n",
            "\n",
            " [[6740    0]\n",
            "  [   0  432]]\n",
            "\n",
            " [[6862    0]\n",
            "  [   0  310]]\n",
            "\n",
            " [[6927    0]\n",
            "  [   0  245]]\n",
            "\n",
            " [[6655   19]\n",
            "  [   0  498]]\n",
            "\n",
            " [[6925    0]\n",
            "  [   0  247]]\n",
            "\n",
            " [[6824    0]\n",
            "  [  19  329]]\n",
            "\n",
            " [[6736    0]\n",
            "  [   0  436]]\n",
            "\n",
            " [[6884    0]\n",
            "  [   0  288]]\n",
            "\n",
            " [[6841    0]\n",
            "  [   0  331]]\n",
            "\n",
            " [[6963    0]\n",
            "  [   0  209]]\n",
            "\n",
            " [[6778    0]\n",
            "  [   0  394]]\n",
            "\n",
            " [[6881    0]\n",
            "  [   0  291]]\n",
            "\n",
            " [[6926    0]\n",
            "  [   0  246]]\n",
            "\n",
            " [[6825    0]\n",
            "  [   0  347]]\n",
            "\n",
            " [[7008    0]\n",
            "  [   0  164]]\n",
            "\n",
            " [[7028    0]\n",
            "  [   0  144]]\n",
            "\n",
            " [[6926    0]\n",
            "  [   0  246]]\n",
            "\n",
            " [[6924    0]\n",
            "  [   0  248]]\n",
            "\n",
            " [[6906    0]\n",
            "  [   0  266]]\n",
            "\n",
            " [[6826    0]\n",
            "  [   0  346]]\n",
            "\n",
            " [[6966    0]\n",
            "  [   0  206]]\n",
            "\n",
            " [[6905    0]\n",
            "  [   0  267]]\n",
            "\n",
            " [[6840    0]\n",
            "  [   0  332]]]\n"
          ],
          "name": "stdout"
        }
      ]
    },
    {
      "cell_type": "markdown",
      "metadata": {
        "id": "MJUeNzhyW4S4"
      },
      "source": [
        "# **Saving the model**"
      ]
    },
    {
      "cell_type": "code",
      "metadata": {
        "id": "YhgOUqNRpKEq",
        "outputId": "bafb9b70-c449-4f5a-8203-ca32c130ec84",
        "colab": {
          "base_uri": "https://localhost:8080/",
          "height": 35
        }
      },
      "source": [
        "# serialize model to JSON\n",
        "model_json = model.to_json()\n",
        "with open(\"model_epoch80.json\", \"w\") as json_file:\n",
        "    json_file.write(model_json)\n",
        "# serialize weights to HDF5\n",
        "model.save_weights(\"model_epoch80.h5\")\n",
        "print(\"Saved model to disk\")"
      ],
      "execution_count": null,
      "outputs": [
        {
          "output_type": "stream",
          "text": [
            "Saved model to disk\n"
          ],
          "name": "stdout"
        }
      ]
    },
    {
      "cell_type": "code",
      "metadata": {
        "id": "u_yLuvY561M_"
      },
      "source": [],
      "execution_count": null,
      "outputs": []
    }
  ]
}